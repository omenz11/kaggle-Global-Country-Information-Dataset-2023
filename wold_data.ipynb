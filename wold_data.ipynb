{
 "cells": [
  {
   "cell_type": "code",
   "execution_count": 1,
   "metadata": {},
   "outputs": [],
   "source": [
    "import numpy as np\n",
    "import pandas as pd\n",
    "import seaborn as sns\n",
    "from plotly.subplots import make_subplots\n",
    "import matplotlib.pyplot as plt\n",
    "import plotly.express as px\n",
    "import missingno as msno\n",
    "import plotly.offline as py\n"
   ]
  },
  {
   "cell_type": "code",
   "execution_count": 2,
   "metadata": {},
   "outputs": [],
   "source": [
    "df = pd.read_csv(\"world-data-2023.csv\")"
   ]
  },
  {
   "cell_type": "code",
   "execution_count": 3,
   "metadata": {},
   "outputs": [
    {
     "data": {
      "text/html": [
       "<div>\n",
       "<style scoped>\n",
       "    .dataframe tbody tr th:only-of-type {\n",
       "        vertical-align: middle;\n",
       "    }\n",
       "\n",
       "    .dataframe tbody tr th {\n",
       "        vertical-align: top;\n",
       "    }\n",
       "\n",
       "    .dataframe thead th {\n",
       "        text-align: right;\n",
       "    }\n",
       "</style>\n",
       "<table border=\"1\" class=\"dataframe\">\n",
       "  <thead>\n",
       "    <tr style=\"text-align: right;\">\n",
       "      <th></th>\n",
       "      <th>Country</th>\n",
       "      <th>Density\\n(P/Km2)</th>\n",
       "      <th>Abbreviation</th>\n",
       "      <th>Agricultural Land( %)</th>\n",
       "      <th>Land Area(Km2)</th>\n",
       "      <th>Armed Forces size</th>\n",
       "      <th>Birth Rate</th>\n",
       "      <th>Calling Code</th>\n",
       "      <th>Capital/Major City</th>\n",
       "      <th>Co2-Emissions</th>\n",
       "      <th>...</th>\n",
       "      <th>Out of pocket health expenditure</th>\n",
       "      <th>Physicians per thousand</th>\n",
       "      <th>Population</th>\n",
       "      <th>Population: Labor force participation (%)</th>\n",
       "      <th>Tax revenue (%)</th>\n",
       "      <th>Total tax rate</th>\n",
       "      <th>Unemployment rate</th>\n",
       "      <th>Urban_population</th>\n",
       "      <th>Latitude</th>\n",
       "      <th>Longitude</th>\n",
       "    </tr>\n",
       "  </thead>\n",
       "  <tbody>\n",
       "    <tr>\n",
       "      <th>0</th>\n",
       "      <td>Afghanistan</td>\n",
       "      <td>60</td>\n",
       "      <td>AF</td>\n",
       "      <td>58.10%</td>\n",
       "      <td>652,230</td>\n",
       "      <td>323,000</td>\n",
       "      <td>32.49</td>\n",
       "      <td>93.0</td>\n",
       "      <td>Kabul</td>\n",
       "      <td>8,672</td>\n",
       "      <td>...</td>\n",
       "      <td>78.40%</td>\n",
       "      <td>0.28</td>\n",
       "      <td>38,041,754</td>\n",
       "      <td>48.90%</td>\n",
       "      <td>9.30%</td>\n",
       "      <td>71.40%</td>\n",
       "      <td>11.12%</td>\n",
       "      <td>9,797,273</td>\n",
       "      <td>33.939110</td>\n",
       "      <td>67.709953</td>\n",
       "    </tr>\n",
       "    <tr>\n",
       "      <th>1</th>\n",
       "      <td>Albania</td>\n",
       "      <td>105</td>\n",
       "      <td>AL</td>\n",
       "      <td>43.10%</td>\n",
       "      <td>28,748</td>\n",
       "      <td>9,000</td>\n",
       "      <td>11.78</td>\n",
       "      <td>355.0</td>\n",
       "      <td>Tirana</td>\n",
       "      <td>4,536</td>\n",
       "      <td>...</td>\n",
       "      <td>56.90%</td>\n",
       "      <td>1.20</td>\n",
       "      <td>2,854,191</td>\n",
       "      <td>55.70%</td>\n",
       "      <td>18.60%</td>\n",
       "      <td>36.60%</td>\n",
       "      <td>12.33%</td>\n",
       "      <td>1,747,593</td>\n",
       "      <td>41.153332</td>\n",
       "      <td>20.168331</td>\n",
       "    </tr>\n",
       "    <tr>\n",
       "      <th>2</th>\n",
       "      <td>Algeria</td>\n",
       "      <td>18</td>\n",
       "      <td>DZ</td>\n",
       "      <td>17.40%</td>\n",
       "      <td>2,381,741</td>\n",
       "      <td>317,000</td>\n",
       "      <td>24.28</td>\n",
       "      <td>213.0</td>\n",
       "      <td>Algiers</td>\n",
       "      <td>150,006</td>\n",
       "      <td>...</td>\n",
       "      <td>28.10%</td>\n",
       "      <td>1.72</td>\n",
       "      <td>43,053,054</td>\n",
       "      <td>41.20%</td>\n",
       "      <td>37.20%</td>\n",
       "      <td>66.10%</td>\n",
       "      <td>11.70%</td>\n",
       "      <td>31,510,100</td>\n",
       "      <td>28.033886</td>\n",
       "      <td>1.659626</td>\n",
       "    </tr>\n",
       "    <tr>\n",
       "      <th>3</th>\n",
       "      <td>Andorra</td>\n",
       "      <td>164</td>\n",
       "      <td>AD</td>\n",
       "      <td>40.00%</td>\n",
       "      <td>468</td>\n",
       "      <td>NaN</td>\n",
       "      <td>7.20</td>\n",
       "      <td>376.0</td>\n",
       "      <td>Andorra la Vella</td>\n",
       "      <td>469</td>\n",
       "      <td>...</td>\n",
       "      <td>36.40%</td>\n",
       "      <td>3.33</td>\n",
       "      <td>77,142</td>\n",
       "      <td>NaN</td>\n",
       "      <td>NaN</td>\n",
       "      <td>NaN</td>\n",
       "      <td>NaN</td>\n",
       "      <td>67,873</td>\n",
       "      <td>42.506285</td>\n",
       "      <td>1.521801</td>\n",
       "    </tr>\n",
       "    <tr>\n",
       "      <th>4</th>\n",
       "      <td>Angola</td>\n",
       "      <td>26</td>\n",
       "      <td>AO</td>\n",
       "      <td>47.50%</td>\n",
       "      <td>1,246,700</td>\n",
       "      <td>117,000</td>\n",
       "      <td>40.73</td>\n",
       "      <td>244.0</td>\n",
       "      <td>Luanda</td>\n",
       "      <td>34,693</td>\n",
       "      <td>...</td>\n",
       "      <td>33.40%</td>\n",
       "      <td>0.21</td>\n",
       "      <td>31,825,295</td>\n",
       "      <td>77.50%</td>\n",
       "      <td>9.20%</td>\n",
       "      <td>49.10%</td>\n",
       "      <td>6.89%</td>\n",
       "      <td>21,061,025</td>\n",
       "      <td>-11.202692</td>\n",
       "      <td>17.873887</td>\n",
       "    </tr>\n",
       "  </tbody>\n",
       "</table>\n",
       "<p>5 rows × 35 columns</p>\n",
       "</div>"
      ],
      "text/plain": [
       "       Country Density\\n(P/Km2) Abbreviation Agricultural Land( %)  \\\n",
       "0  Afghanistan               60           AF                58.10%   \n",
       "1      Albania              105           AL                43.10%   \n",
       "2      Algeria               18           DZ                17.40%   \n",
       "3      Andorra              164           AD                40.00%   \n",
       "4       Angola               26           AO                47.50%   \n",
       "\n",
       "  Land Area(Km2) Armed Forces size  Birth Rate  Calling Code  \\\n",
       "0        652,230           323,000       32.49          93.0   \n",
       "1         28,748             9,000       11.78         355.0   \n",
       "2      2,381,741           317,000       24.28         213.0   \n",
       "3            468               NaN        7.20         376.0   \n",
       "4      1,246,700           117,000       40.73         244.0   \n",
       "\n",
       "  Capital/Major City Co2-Emissions  ... Out of pocket health expenditure  \\\n",
       "0              Kabul         8,672  ...                           78.40%   \n",
       "1             Tirana         4,536  ...                           56.90%   \n",
       "2            Algiers       150,006  ...                           28.10%   \n",
       "3   Andorra la Vella           469  ...                           36.40%   \n",
       "4             Luanda        34,693  ...                           33.40%   \n",
       "\n",
       "  Physicians per thousand  Population  \\\n",
       "0                    0.28  38,041,754   \n",
       "1                    1.20   2,854,191   \n",
       "2                    1.72  43,053,054   \n",
       "3                    3.33      77,142   \n",
       "4                    0.21  31,825,295   \n",
       "\n",
       "   Population: Labor force participation (%) Tax revenue (%) Total tax rate  \\\n",
       "0                                     48.90%           9.30%         71.40%   \n",
       "1                                     55.70%          18.60%         36.60%   \n",
       "2                                     41.20%          37.20%         66.10%   \n",
       "3                                        NaN             NaN            NaN   \n",
       "4                                     77.50%           9.20%         49.10%   \n",
       "\n",
       "  Unemployment rate Urban_population   Latitude  Longitude  \n",
       "0            11.12%        9,797,273  33.939110  67.709953  \n",
       "1            12.33%        1,747,593  41.153332  20.168331  \n",
       "2            11.70%       31,510,100  28.033886   1.659626  \n",
       "3               NaN           67,873  42.506285   1.521801  \n",
       "4             6.89%       21,061,025 -11.202692  17.873887  \n",
       "\n",
       "[5 rows x 35 columns]"
      ]
     },
     "execution_count": 3,
     "metadata": {},
     "output_type": "execute_result"
    }
   ],
   "source": [
    "df.head()"
   ]
  },
  {
   "cell_type": "code",
   "execution_count": 4,
   "metadata": {},
   "outputs": [
    {
     "name": "stdout",
     "output_type": "stream",
     "text": [
      "Summary Of The Dataset with numerical columns :\n"
     ]
    },
    {
     "data": {
      "text/html": [
       "<style type=\"text/css\">\n",
       "#T_4a823_row0_col0, #T_4a823_row0_col1, #T_4a823_row0_col2, #T_4a823_row0_col3, #T_4a823_row0_col4, #T_4a823_row0_col5, #T_4a823_row0_col6, #T_4a823_row0_col7, #T_4a823_row0_col8, #T_4a823_row1_col0, #T_4a823_row1_col1, #T_4a823_row1_col2, #T_4a823_row1_col3, #T_4a823_row1_col4, #T_4a823_row1_col5, #T_4a823_row1_col6, #T_4a823_row1_col7, #T_4a823_row1_col8, #T_4a823_row2_col0, #T_4a823_row2_col1, #T_4a823_row2_col2, #T_4a823_row2_col3, #T_4a823_row2_col4, #T_4a823_row2_col5, #T_4a823_row2_col6, #T_4a823_row2_col7, #T_4a823_row2_col8, #T_4a823_row3_col0, #T_4a823_row3_col1, #T_4a823_row3_col2, #T_4a823_row3_col3, #T_4a823_row3_col4, #T_4a823_row3_col5, #T_4a823_row3_col6, #T_4a823_row3_col7, #T_4a823_row3_col8, #T_4a823_row4_col0, #T_4a823_row4_col1, #T_4a823_row4_col2, #T_4a823_row4_col3, #T_4a823_row4_col4, #T_4a823_row4_col5, #T_4a823_row4_col6, #T_4a823_row4_col7, #T_4a823_row4_col8, #T_4a823_row5_col0, #T_4a823_row5_col1, #T_4a823_row5_col2, #T_4a823_row5_col3, #T_4a823_row5_col4, #T_4a823_row5_col5, #T_4a823_row5_col6, #T_4a823_row5_col7, #T_4a823_row5_col8, #T_4a823_row6_col0, #T_4a823_row6_col1, #T_4a823_row6_col2, #T_4a823_row6_col3, #T_4a823_row6_col4, #T_4a823_row6_col5, #T_4a823_row6_col6, #T_4a823_row6_col7, #T_4a823_row6_col8, #T_4a823_row7_col0, #T_4a823_row7_col1, #T_4a823_row7_col2, #T_4a823_row7_col3, #T_4a823_row7_col4, #T_4a823_row7_col5, #T_4a823_row7_col6, #T_4a823_row7_col7, #T_4a823_row7_col8 {\n",
       "  background-color: #121d6b;\n",
       "  color: #e9c46a;\n",
       "  border: 1.5px solid black;\n",
       "}\n",
       "</style>\n",
       "<table id=\"T_4a823\">\n",
       "  <thead>\n",
       "    <tr>\n",
       "      <th class=\"blank level0\" >&nbsp;</th>\n",
       "      <th id=\"T_4a823_level0_col0\" class=\"col_heading level0 col0\" >Birth Rate</th>\n",
       "      <th id=\"T_4a823_level0_col1\" class=\"col_heading level0 col1\" >Calling Code</th>\n",
       "      <th id=\"T_4a823_level0_col2\" class=\"col_heading level0 col2\" >Fertility Rate</th>\n",
       "      <th id=\"T_4a823_level0_col3\" class=\"col_heading level0 col3\" >Infant mortality</th>\n",
       "      <th id=\"T_4a823_level0_col4\" class=\"col_heading level0 col4\" >Life expectancy</th>\n",
       "      <th id=\"T_4a823_level0_col5\" class=\"col_heading level0 col5\" >Maternal mortality ratio</th>\n",
       "      <th id=\"T_4a823_level0_col6\" class=\"col_heading level0 col6\" >Physicians per thousand</th>\n",
       "      <th id=\"T_4a823_level0_col7\" class=\"col_heading level0 col7\" >Latitude</th>\n",
       "      <th id=\"T_4a823_level0_col8\" class=\"col_heading level0 col8\" >Longitude</th>\n",
       "    </tr>\n",
       "  </thead>\n",
       "  <tbody>\n",
       "    <tr>\n",
       "      <th id=\"T_4a823_level0_row0\" class=\"row_heading level0 row0\" >count</th>\n",
       "      <td id=\"T_4a823_row0_col0\" class=\"data row0 col0\" >189.000000</td>\n",
       "      <td id=\"T_4a823_row0_col1\" class=\"data row0 col1\" >194.000000</td>\n",
       "      <td id=\"T_4a823_row0_col2\" class=\"data row0 col2\" >188.000000</td>\n",
       "      <td id=\"T_4a823_row0_col3\" class=\"data row0 col3\" >189.000000</td>\n",
       "      <td id=\"T_4a823_row0_col4\" class=\"data row0 col4\" >187.000000</td>\n",
       "      <td id=\"T_4a823_row0_col5\" class=\"data row0 col5\" >181.000000</td>\n",
       "      <td id=\"T_4a823_row0_col6\" class=\"data row0 col6\" >188.000000</td>\n",
       "      <td id=\"T_4a823_row0_col7\" class=\"data row0 col7\" >194.000000</td>\n",
       "      <td id=\"T_4a823_row0_col8\" class=\"data row0 col8\" >194.000000</td>\n",
       "    </tr>\n",
       "    <tr>\n",
       "      <th id=\"T_4a823_level0_row1\" class=\"row_heading level0 row1\" >mean</th>\n",
       "      <td id=\"T_4a823_row1_col0\" class=\"data row1 col0\" >20.214974</td>\n",
       "      <td id=\"T_4a823_row1_col1\" class=\"data row1 col1\" >360.546392</td>\n",
       "      <td id=\"T_4a823_row1_col2\" class=\"data row1 col2\" >2.698138</td>\n",
       "      <td id=\"T_4a823_row1_col3\" class=\"data row1 col3\" >21.332804</td>\n",
       "      <td id=\"T_4a823_row1_col4\" class=\"data row1 col4\" >72.279679</td>\n",
       "      <td id=\"T_4a823_row1_col5\" class=\"data row1 col5\" >160.392265</td>\n",
       "      <td id=\"T_4a823_row1_col6\" class=\"data row1 col6\" >1.839840</td>\n",
       "      <td id=\"T_4a823_row1_col7\" class=\"data row1 col7\" >19.092351</td>\n",
       "      <td id=\"T_4a823_row1_col8\" class=\"data row1 col8\" >20.232434</td>\n",
       "    </tr>\n",
       "    <tr>\n",
       "      <th id=\"T_4a823_level0_row2\" class=\"row_heading level0 row2\" >std</th>\n",
       "      <td id=\"T_4a823_row2_col0\" class=\"data row2 col0\" >9.945774</td>\n",
       "      <td id=\"T_4a823_row2_col1\" class=\"data row2 col1\" >323.236419</td>\n",
       "      <td id=\"T_4a823_row2_col2\" class=\"data row2 col2\" >1.282267</td>\n",
       "      <td id=\"T_4a823_row2_col3\" class=\"data row2 col3\" >19.548058</td>\n",
       "      <td id=\"T_4a823_row2_col4\" class=\"data row2 col4\" >7.483661</td>\n",
       "      <td id=\"T_4a823_row2_col5\" class=\"data row2 col5\" >233.502024</td>\n",
       "      <td id=\"T_4a823_row2_col6\" class=\"data row2 col6\" >1.684261</td>\n",
       "      <td id=\"T_4a823_row2_col7\" class=\"data row2 col7\" >23.961779</td>\n",
       "      <td id=\"T_4a823_row2_col8\" class=\"data row2 col8\" >66.716110</td>\n",
       "    </tr>\n",
       "    <tr>\n",
       "      <th id=\"T_4a823_level0_row3\" class=\"row_heading level0 row3\" >min</th>\n",
       "      <td id=\"T_4a823_row3_col0\" class=\"data row3 col0\" >5.900000</td>\n",
       "      <td id=\"T_4a823_row3_col1\" class=\"data row3 col1\" >1.000000</td>\n",
       "      <td id=\"T_4a823_row3_col2\" class=\"data row3 col2\" >0.980000</td>\n",
       "      <td id=\"T_4a823_row3_col3\" class=\"data row3 col3\" >1.400000</td>\n",
       "      <td id=\"T_4a823_row3_col4\" class=\"data row3 col4\" >52.800000</td>\n",
       "      <td id=\"T_4a823_row3_col5\" class=\"data row3 col5\" >2.000000</td>\n",
       "      <td id=\"T_4a823_row3_col6\" class=\"data row3 col6\" >0.010000</td>\n",
       "      <td id=\"T_4a823_row3_col7\" class=\"data row3 col7\" >-40.900557</td>\n",
       "      <td id=\"T_4a823_row3_col8\" class=\"data row3 col8\" >-175.198242</td>\n",
       "    </tr>\n",
       "    <tr>\n",
       "      <th id=\"T_4a823_level0_row4\" class=\"row_heading level0 row4\" >25%</th>\n",
       "      <td id=\"T_4a823_row4_col0\" class=\"data row4 col0\" >11.300000</td>\n",
       "      <td id=\"T_4a823_row4_col1\" class=\"data row4 col1\" >82.500000</td>\n",
       "      <td id=\"T_4a823_row4_col2\" class=\"data row4 col2\" >1.705000</td>\n",
       "      <td id=\"T_4a823_row4_col3\" class=\"data row4 col3\" >6.000000</td>\n",
       "      <td id=\"T_4a823_row4_col4\" class=\"data row4 col4\" >67.000000</td>\n",
       "      <td id=\"T_4a823_row4_col5\" class=\"data row4 col5\" >13.000000</td>\n",
       "      <td id=\"T_4a823_row4_col6\" class=\"data row4 col6\" >0.332500</td>\n",
       "      <td id=\"T_4a823_row4_col7\" class=\"data row4 col7\" >4.544175</td>\n",
       "      <td id=\"T_4a823_row4_col8\" class=\"data row4 col8\" >-7.941496</td>\n",
       "    </tr>\n",
       "    <tr>\n",
       "      <th id=\"T_4a823_level0_row5\" class=\"row_heading level0 row5\" >50%</th>\n",
       "      <td id=\"T_4a823_row5_col0\" class=\"data row5 col0\" >17.950000</td>\n",
       "      <td id=\"T_4a823_row5_col1\" class=\"data row5 col1\" >255.500000</td>\n",
       "      <td id=\"T_4a823_row5_col2\" class=\"data row5 col2\" >2.245000</td>\n",
       "      <td id=\"T_4a823_row5_col3\" class=\"data row5 col3\" >14.000000</td>\n",
       "      <td id=\"T_4a823_row5_col4\" class=\"data row5 col4\" >73.200000</td>\n",
       "      <td id=\"T_4a823_row5_col5\" class=\"data row5 col5\" >53.000000</td>\n",
       "      <td id=\"T_4a823_row5_col6\" class=\"data row5 col6\" >1.460000</td>\n",
       "      <td id=\"T_4a823_row5_col7\" class=\"data row5 col7\" >17.273849</td>\n",
       "      <td id=\"T_4a823_row5_col8\" class=\"data row5 col8\" >20.972652</td>\n",
       "    </tr>\n",
       "    <tr>\n",
       "      <th id=\"T_4a823_level0_row6\" class=\"row_heading level0 row6\" >75%</th>\n",
       "      <td id=\"T_4a823_row6_col0\" class=\"data row6 col0\" >28.750000</td>\n",
       "      <td id=\"T_4a823_row6_col1\" class=\"data row6 col1\" >506.750000</td>\n",
       "      <td id=\"T_4a823_row6_col2\" class=\"data row6 col2\" >3.597500</td>\n",
       "      <td id=\"T_4a823_row6_col3\" class=\"data row6 col3\" >32.700000</td>\n",
       "      <td id=\"T_4a823_row6_col4\" class=\"data row6 col4\" >77.500000</td>\n",
       "      <td id=\"T_4a823_row6_col5\" class=\"data row6 col5\" >186.000000</td>\n",
       "      <td id=\"T_4a823_row6_col6\" class=\"data row6 col6\" >2.935000</td>\n",
       "      <td id=\"T_4a823_row6_col7\" class=\"data row6 col7\" >40.124603</td>\n",
       "      <td id=\"T_4a823_row6_col8\" class=\"data row6 col8\" >48.281523</td>\n",
       "    </tr>\n",
       "    <tr>\n",
       "      <th id=\"T_4a823_level0_row7\" class=\"row_heading level0 row7\" >max</th>\n",
       "      <td id=\"T_4a823_row7_col0\" class=\"data row7 col0\" >46.080000</td>\n",
       "      <td id=\"T_4a823_row7_col1\" class=\"data row7 col1\" >1876.000000</td>\n",
       "      <td id=\"T_4a823_row7_col2\" class=\"data row7 col2\" >6.910000</td>\n",
       "      <td id=\"T_4a823_row7_col3\" class=\"data row7 col3\" >84.500000</td>\n",
       "      <td id=\"T_4a823_row7_col4\" class=\"data row7 col4\" >85.400000</td>\n",
       "      <td id=\"T_4a823_row7_col5\" class=\"data row7 col5\" >1150.000000</td>\n",
       "      <td id=\"T_4a823_row7_col6\" class=\"data row7 col6\" >8.420000</td>\n",
       "      <td id=\"T_4a823_row7_col7\" class=\"data row7 col7\" >64.963051</td>\n",
       "      <td id=\"T_4a823_row7_col8\" class=\"data row7 col8\" >178.065032</td>\n",
       "    </tr>\n",
       "  </tbody>\n",
       "</table>\n"
      ],
      "text/plain": [
       "<pandas.io.formats.style.Styler at 0x182af83c6d0>"
      ]
     },
     "execution_count": 4,
     "metadata": {},
     "output_type": "execute_result"
    }
   ],
   "source": [
    "print(f\"Summary Of The Dataset with numerical columns :\")\n",
    "df.describe().style.set_properties(**{\"background-color\": \"#121d6b\",\"color\":\"#e9c46a\",\"border\": \"1.5px solid black\"})"
   ]
  },
  {
   "cell_type": "markdown",
   "metadata": {},
   "source": [
    "# DATA EKSPORATION\n"
   ]
  },
  {
   "cell_type": "code",
   "execution_count": 5,
   "metadata": {},
   "outputs": [
    {
     "data": {
      "text/html": [
       "<div>\n",
       "<style scoped>\n",
       "    .dataframe tbody tr th:only-of-type {\n",
       "        vertical-align: middle;\n",
       "    }\n",
       "\n",
       "    .dataframe tbody tr th {\n",
       "        vertical-align: top;\n",
       "    }\n",
       "\n",
       "    .dataframe thead th {\n",
       "        text-align: right;\n",
       "    }\n",
       "</style>\n",
       "<table border=\"1\" class=\"dataframe\">\n",
       "  <thead>\n",
       "    <tr style=\"text-align: right;\">\n",
       "      <th></th>\n",
       "      <th>Country</th>\n",
       "      <th>Density</th>\n",
       "      <th>Country Code</th>\n",
       "      <th>Agricultural Land( %)</th>\n",
       "      <th>Land Area</th>\n",
       "      <th>Armed Forces size</th>\n",
       "      <th>Birth Rate</th>\n",
       "      <th>Calling Code</th>\n",
       "      <th>Capital</th>\n",
       "      <th>CO2 Emissions</th>\n",
       "      <th>...</th>\n",
       "      <th>Out of pocket health expenditure</th>\n",
       "      <th>Physicians per thousand</th>\n",
       "      <th>Population</th>\n",
       "      <th>Population: Labor force participation (%)</th>\n",
       "      <th>Tax revenue (%)</th>\n",
       "      <th>Total tax rate</th>\n",
       "      <th>Unemployment rate</th>\n",
       "      <th>Urban_population</th>\n",
       "      <th>Latitude</th>\n",
       "      <th>Longitude</th>\n",
       "    </tr>\n",
       "  </thead>\n",
       "  <tbody>\n",
       "    <tr>\n",
       "      <th>0</th>\n",
       "      <td>Afghanistan</td>\n",
       "      <td>60.0</td>\n",
       "      <td>AF</td>\n",
       "      <td>58.1</td>\n",
       "      <td>652230.0</td>\n",
       "      <td>323,000</td>\n",
       "      <td>32.49</td>\n",
       "      <td>93.0</td>\n",
       "      <td>Kabul</td>\n",
       "      <td>8672.0</td>\n",
       "      <td>...</td>\n",
       "      <td>78.40%</td>\n",
       "      <td>0.28</td>\n",
       "      <td>38041754.0</td>\n",
       "      <td>48.9</td>\n",
       "      <td>9.3</td>\n",
       "      <td>71.4</td>\n",
       "      <td>11.12</td>\n",
       "      <td>9,797,273</td>\n",
       "      <td>33.939110</td>\n",
       "      <td>67.709953</td>\n",
       "    </tr>\n",
       "    <tr>\n",
       "      <th>1</th>\n",
       "      <td>Albania</td>\n",
       "      <td>105.0</td>\n",
       "      <td>AL</td>\n",
       "      <td>43.1</td>\n",
       "      <td>28748.0</td>\n",
       "      <td>9,000</td>\n",
       "      <td>11.78</td>\n",
       "      <td>355.0</td>\n",
       "      <td>Tirana</td>\n",
       "      <td>4536.0</td>\n",
       "      <td>...</td>\n",
       "      <td>56.90%</td>\n",
       "      <td>1.20</td>\n",
       "      <td>2854191.0</td>\n",
       "      <td>55.7</td>\n",
       "      <td>18.6</td>\n",
       "      <td>36.6</td>\n",
       "      <td>12.33</td>\n",
       "      <td>1,747,593</td>\n",
       "      <td>41.153332</td>\n",
       "      <td>20.168331</td>\n",
       "    </tr>\n",
       "    <tr>\n",
       "      <th>2</th>\n",
       "      <td>Algeria</td>\n",
       "      <td>18.0</td>\n",
       "      <td>DZ</td>\n",
       "      <td>17.4</td>\n",
       "      <td>2381741.0</td>\n",
       "      <td>317,000</td>\n",
       "      <td>24.28</td>\n",
       "      <td>213.0</td>\n",
       "      <td>Algiers</td>\n",
       "      <td>150006.0</td>\n",
       "      <td>...</td>\n",
       "      <td>28.10%</td>\n",
       "      <td>1.72</td>\n",
       "      <td>43053054.0</td>\n",
       "      <td>41.2</td>\n",
       "      <td>37.2</td>\n",
       "      <td>66.1</td>\n",
       "      <td>11.70</td>\n",
       "      <td>31,510,100</td>\n",
       "      <td>28.033886</td>\n",
       "      <td>1.659626</td>\n",
       "    </tr>\n",
       "    <tr>\n",
       "      <th>3</th>\n",
       "      <td>Andorra</td>\n",
       "      <td>164.0</td>\n",
       "      <td>AD</td>\n",
       "      <td>40.0</td>\n",
       "      <td>468.0</td>\n",
       "      <td>NaN</td>\n",
       "      <td>7.20</td>\n",
       "      <td>376.0</td>\n",
       "      <td>Andorra la Vella</td>\n",
       "      <td>469.0</td>\n",
       "      <td>...</td>\n",
       "      <td>36.40%</td>\n",
       "      <td>3.33</td>\n",
       "      <td>77142.0</td>\n",
       "      <td>NaN</td>\n",
       "      <td>NaN</td>\n",
       "      <td>NaN</td>\n",
       "      <td>NaN</td>\n",
       "      <td>67,873</td>\n",
       "      <td>42.506285</td>\n",
       "      <td>1.521801</td>\n",
       "    </tr>\n",
       "    <tr>\n",
       "      <th>4</th>\n",
       "      <td>Angola</td>\n",
       "      <td>26.0</td>\n",
       "      <td>AO</td>\n",
       "      <td>47.5</td>\n",
       "      <td>1246700.0</td>\n",
       "      <td>117,000</td>\n",
       "      <td>40.73</td>\n",
       "      <td>244.0</td>\n",
       "      <td>Luanda</td>\n",
       "      <td>34693.0</td>\n",
       "      <td>...</td>\n",
       "      <td>33.40%</td>\n",
       "      <td>0.21</td>\n",
       "      <td>31825295.0</td>\n",
       "      <td>77.5</td>\n",
       "      <td>9.2</td>\n",
       "      <td>49.1</td>\n",
       "      <td>6.89</td>\n",
       "      <td>21,061,025</td>\n",
       "      <td>-11.202692</td>\n",
       "      <td>17.873887</td>\n",
       "    </tr>\n",
       "  </tbody>\n",
       "</table>\n",
       "<p>5 rows × 35 columns</p>\n",
       "</div>"
      ],
      "text/plain": [
       "       Country  Density Country Code  Agricultural Land( %)  Land Area  \\\n",
       "0  Afghanistan     60.0           AF                   58.1   652230.0   \n",
       "1      Albania    105.0           AL                   43.1    28748.0   \n",
       "2      Algeria     18.0           DZ                   17.4  2381741.0   \n",
       "3      Andorra    164.0           AD                   40.0      468.0   \n",
       "4       Angola     26.0           AO                   47.5  1246700.0   \n",
       "\n",
       "  Armed Forces size  Birth Rate  Calling Code           Capital  \\\n",
       "0           323,000       32.49          93.0             Kabul   \n",
       "1             9,000       11.78         355.0            Tirana   \n",
       "2           317,000       24.28         213.0           Algiers   \n",
       "3               NaN        7.20         376.0  Andorra la Vella   \n",
       "4           117,000       40.73         244.0            Luanda   \n",
       "\n",
       "   CO2 Emissions  ...  Out of pocket health expenditure  \\\n",
       "0         8672.0  ...                            78.40%   \n",
       "1         4536.0  ...                            56.90%   \n",
       "2       150006.0  ...                            28.10%   \n",
       "3          469.0  ...                            36.40%   \n",
       "4        34693.0  ...                            33.40%   \n",
       "\n",
       "  Physicians per thousand  Population  \\\n",
       "0                    0.28  38041754.0   \n",
       "1                    1.20   2854191.0   \n",
       "2                    1.72  43053054.0   \n",
       "3                    3.33     77142.0   \n",
       "4                    0.21  31825295.0   \n",
       "\n",
       "   Population: Labor force participation (%)  Tax revenue (%)  Total tax rate  \\\n",
       "0                                       48.9              9.3            71.4   \n",
       "1                                       55.7             18.6            36.6   \n",
       "2                                       41.2             37.2            66.1   \n",
       "3                                        NaN              NaN             NaN   \n",
       "4                                       77.5              9.2            49.1   \n",
       "\n",
       "   Unemployment rate  Urban_population   Latitude  Longitude  \n",
       "0              11.12         9,797,273  33.939110  67.709953  \n",
       "1              12.33         1,747,593  41.153332  20.168331  \n",
       "2              11.70        31,510,100  28.033886   1.659626  \n",
       "3                NaN            67,873  42.506285   1.521801  \n",
       "4               6.89        21,061,025 -11.202692  17.873887  \n",
       "\n",
       "[5 rows x 35 columns]"
      ]
     },
     "execution_count": 5,
     "metadata": {},
     "output_type": "execute_result"
    }
   ],
   "source": [
    "def clean_data(df):\n",
    "    column_mapping = {\n",
    "        'Density\\n(P/Km2)': 'Density',\n",
    "        'Abbreviation': 'Country Code',\n",
    "        'Land Area(Km2)': 'Land Area',\n",
    "        'Birth Rate': 'Birth Rate',\n",
    "        'Capital/Major City': 'Capital',\n",
    "        'Co2-Emissions': 'CO2 Emissions',\n",
    "        'CPI': 'CPI',\n",
    "        'Currency-Code': 'Currency Code',\n",
    "        'Gasoline Price': 'Gasoline Price',\n",
    "        'GDP': 'GDP',\n",
    "        'Largest city': 'Largest City',\n",
    "        'Minimum wage': 'Minimum Wage',\n",
    "        'Population': 'Population',\n",
    "        'Latitude': 'Latitude',\n",
    "        'Longitude': 'Longitude'\n",
    "    }\n",
    "    df = df.rename(columns=column_mapping)\n",
    "\n",
    "    numeric_columns = ['Density','Land Area', 'Birth Rate', 'CO2 Emissions', 'CPI', 'Gasoline Price', 'GDP', 'Minimum Wage', 'Population', 'Latitude', 'Longitude']\n",
    "    df[numeric_columns] = df[numeric_columns].replace({',': '', '\\$': '', '%': ''}, regex=True)\n",
    "    df[numeric_columns] = df[numeric_columns].apply(pd.to_numeric)\n",
    "    \n",
    "    for column in numeric_columns:\n",
    "        if pd.api.types.is_numeric_dtype(df[column]):\n",
    "            df[column] = df[column].astype(float)\n",
    "            \n",
    "        elif pd.api.types.is_string_dtype(df[column]):\n",
    "           df[column] = df[column].str.replace(',', '').astype(float)\n",
    "    \n",
    "    # Clean up text columns\n",
    "    text_columns = ['Country', 'Capital', 'Currency Code', 'Largest City']\n",
    "    df[text_columns] = df[text_columns].apply(lambda x: x.str.strip())\n",
    "    \n",
    "    percentage_columns = ['Agricultural Land( %)', 'Population: Labor force participation (%)',\n",
    "                      'Tax revenue (%)', 'Total tax rate', 'Unemployment rate','Gross primary education enrollment (%)','Forested Area (%)','Gross tertiary education enrollment (%)']\n",
    "    for column in percentage_columns:\n",
    "           df[column] = df[column].apply(lambda x: float(x.rstrip('%')) if isinstance(x, str) else x) \n",
    "    \n",
    "    return df    \n",
    "\n",
    "df_clean = clean_data(df.copy())\n",
    "df_clean.head()\n",
    "    \n",
    "    \n",
    "    "
   ]
  },
  {
   "cell_type": "code",
   "execution_count": 6,
   "metadata": {},
   "outputs": [
    {
     "data": {
      "text/plain": [
       "Index(['Country', 'Density', 'Country Code', 'Agricultural Land( %)',\n",
       "       'Land Area', 'Armed Forces size', 'Birth Rate', 'Calling Code',\n",
       "       'Capital', 'CO2 Emissions', 'CPI', 'CPI Change (%)', 'Currency Code',\n",
       "       'Fertility Rate', 'Forested Area (%)', 'Gasoline Price', 'GDP',\n",
       "       'Gross primary education enrollment (%)',\n",
       "       'Gross tertiary education enrollment (%)', 'Infant mortality',\n",
       "       'Largest City', 'Life expectancy', 'Maternal mortality ratio',\n",
       "       'Minimum Wage', 'Official language', 'Out of pocket health expenditure',\n",
       "       'Physicians per thousand', 'Population',\n",
       "       'Population: Labor force participation (%)', 'Tax revenue (%)',\n",
       "       'Total tax rate', 'Unemployment rate', 'Urban_population', 'Latitude',\n",
       "       'Longitude'],\n",
       "      dtype='object')"
      ]
     },
     "execution_count": 6,
     "metadata": {},
     "output_type": "execute_result"
    }
   ],
   "source": [
    "df_clean.columns"
   ]
  },
  {
   "cell_type": "code",
   "execution_count": 7,
   "metadata": {},
   "outputs": [
    {
     "name": "stdout",
     "output_type": "stream",
     "text": [
      "Summary Of The Dataset with numerical columns :\n"
     ]
    },
    {
     "data": {
      "text/html": [
       "<style type=\"text/css\">\n",
       "#T_b8178_row0_col0, #T_b8178_row0_col1, #T_b8178_row0_col2, #T_b8178_row0_col3, #T_b8178_row0_col4, #T_b8178_row0_col5, #T_b8178_row0_col6, #T_b8178_row0_col7, #T_b8178_row0_col8, #T_b8178_row0_col9, #T_b8178_row0_col10, #T_b8178_row0_col11, #T_b8178_row0_col12, #T_b8178_row0_col13, #T_b8178_row0_col14, #T_b8178_row0_col15, #T_b8178_row0_col16, #T_b8178_row0_col17, #T_b8178_row0_col18, #T_b8178_row0_col19, #T_b8178_row0_col20, #T_b8178_row0_col21, #T_b8178_row0_col22, #T_b8178_row0_col23, #T_b8178_row0_col24, #T_b8178_row1_col0, #T_b8178_row1_col1, #T_b8178_row1_col2, #T_b8178_row1_col3, #T_b8178_row1_col4, #T_b8178_row1_col5, #T_b8178_row1_col6, #T_b8178_row1_col7, #T_b8178_row1_col8, #T_b8178_row1_col9, #T_b8178_row1_col10, #T_b8178_row1_col11, #T_b8178_row1_col12, #T_b8178_row1_col13, #T_b8178_row1_col14, #T_b8178_row1_col15, #T_b8178_row1_col16, #T_b8178_row1_col17, #T_b8178_row1_col18, #T_b8178_row1_col19, #T_b8178_row1_col20, #T_b8178_row1_col21, #T_b8178_row1_col22, #T_b8178_row1_col23, #T_b8178_row1_col24, #T_b8178_row2_col0, #T_b8178_row2_col1, #T_b8178_row2_col2, #T_b8178_row2_col3, #T_b8178_row2_col4, #T_b8178_row2_col5, #T_b8178_row2_col6, #T_b8178_row2_col7, #T_b8178_row2_col8, #T_b8178_row2_col9, #T_b8178_row2_col10, #T_b8178_row2_col11, #T_b8178_row2_col12, #T_b8178_row2_col13, #T_b8178_row2_col14, #T_b8178_row2_col15, #T_b8178_row2_col16, #T_b8178_row2_col17, #T_b8178_row2_col18, #T_b8178_row2_col19, #T_b8178_row2_col20, #T_b8178_row2_col21, #T_b8178_row2_col22, #T_b8178_row2_col23, #T_b8178_row2_col24, #T_b8178_row3_col0, #T_b8178_row3_col1, #T_b8178_row3_col2, #T_b8178_row3_col3, #T_b8178_row3_col4, #T_b8178_row3_col5, #T_b8178_row3_col6, #T_b8178_row3_col7, #T_b8178_row3_col8, #T_b8178_row3_col9, #T_b8178_row3_col10, #T_b8178_row3_col11, #T_b8178_row3_col12, #T_b8178_row3_col13, #T_b8178_row3_col14, #T_b8178_row3_col15, #T_b8178_row3_col16, #T_b8178_row3_col17, #T_b8178_row3_col18, #T_b8178_row3_col19, #T_b8178_row3_col20, #T_b8178_row3_col21, #T_b8178_row3_col22, #T_b8178_row3_col23, #T_b8178_row3_col24, #T_b8178_row4_col0, #T_b8178_row4_col1, #T_b8178_row4_col2, #T_b8178_row4_col3, #T_b8178_row4_col4, #T_b8178_row4_col5, #T_b8178_row4_col6, #T_b8178_row4_col7, #T_b8178_row4_col8, #T_b8178_row4_col9, #T_b8178_row4_col10, #T_b8178_row4_col11, #T_b8178_row4_col12, #T_b8178_row4_col13, #T_b8178_row4_col14, #T_b8178_row4_col15, #T_b8178_row4_col16, #T_b8178_row4_col17, #T_b8178_row4_col18, #T_b8178_row4_col19, #T_b8178_row4_col20, #T_b8178_row4_col21, #T_b8178_row4_col22, #T_b8178_row4_col23, #T_b8178_row4_col24, #T_b8178_row5_col0, #T_b8178_row5_col1, #T_b8178_row5_col2, #T_b8178_row5_col3, #T_b8178_row5_col4, #T_b8178_row5_col5, #T_b8178_row5_col6, #T_b8178_row5_col7, #T_b8178_row5_col8, #T_b8178_row5_col9, #T_b8178_row5_col10, #T_b8178_row5_col11, #T_b8178_row5_col12, #T_b8178_row5_col13, #T_b8178_row5_col14, #T_b8178_row5_col15, #T_b8178_row5_col16, #T_b8178_row5_col17, #T_b8178_row5_col18, #T_b8178_row5_col19, #T_b8178_row5_col20, #T_b8178_row5_col21, #T_b8178_row5_col22, #T_b8178_row5_col23, #T_b8178_row5_col24, #T_b8178_row6_col0, #T_b8178_row6_col1, #T_b8178_row6_col2, #T_b8178_row6_col3, #T_b8178_row6_col4, #T_b8178_row6_col5, #T_b8178_row6_col6, #T_b8178_row6_col7, #T_b8178_row6_col8, #T_b8178_row6_col9, #T_b8178_row6_col10, #T_b8178_row6_col11, #T_b8178_row6_col12, #T_b8178_row6_col13, #T_b8178_row6_col14, #T_b8178_row6_col15, #T_b8178_row6_col16, #T_b8178_row6_col17, #T_b8178_row6_col18, #T_b8178_row6_col19, #T_b8178_row6_col20, #T_b8178_row6_col21, #T_b8178_row6_col22, #T_b8178_row6_col23, #T_b8178_row6_col24, #T_b8178_row7_col0, #T_b8178_row7_col1, #T_b8178_row7_col2, #T_b8178_row7_col3, #T_b8178_row7_col4, #T_b8178_row7_col5, #T_b8178_row7_col6, #T_b8178_row7_col7, #T_b8178_row7_col8, #T_b8178_row7_col9, #T_b8178_row7_col10, #T_b8178_row7_col11, #T_b8178_row7_col12, #T_b8178_row7_col13, #T_b8178_row7_col14, #T_b8178_row7_col15, #T_b8178_row7_col16, #T_b8178_row7_col17, #T_b8178_row7_col18, #T_b8178_row7_col19, #T_b8178_row7_col20, #T_b8178_row7_col21, #T_b8178_row7_col22, #T_b8178_row7_col23, #T_b8178_row7_col24 {\n",
       "  background-color: #121d6b;\n",
       "  color: #e9c46a;\n",
       "  border: 1.5px solid black;\n",
       "}\n",
       "</style>\n",
       "<table id=\"T_b8178\">\n",
       "  <thead>\n",
       "    <tr>\n",
       "      <th class=\"blank level0\" >&nbsp;</th>\n",
       "      <th id=\"T_b8178_level0_col0\" class=\"col_heading level0 col0\" >Density</th>\n",
       "      <th id=\"T_b8178_level0_col1\" class=\"col_heading level0 col1\" >Agricultural Land( %)</th>\n",
       "      <th id=\"T_b8178_level0_col2\" class=\"col_heading level0 col2\" >Land Area</th>\n",
       "      <th id=\"T_b8178_level0_col3\" class=\"col_heading level0 col3\" >Birth Rate</th>\n",
       "      <th id=\"T_b8178_level0_col4\" class=\"col_heading level0 col4\" >Calling Code</th>\n",
       "      <th id=\"T_b8178_level0_col5\" class=\"col_heading level0 col5\" >CO2 Emissions</th>\n",
       "      <th id=\"T_b8178_level0_col6\" class=\"col_heading level0 col6\" >CPI</th>\n",
       "      <th id=\"T_b8178_level0_col7\" class=\"col_heading level0 col7\" >Fertility Rate</th>\n",
       "      <th id=\"T_b8178_level0_col8\" class=\"col_heading level0 col8\" >Forested Area (%)</th>\n",
       "      <th id=\"T_b8178_level0_col9\" class=\"col_heading level0 col9\" >Gasoline Price</th>\n",
       "      <th id=\"T_b8178_level0_col10\" class=\"col_heading level0 col10\" >GDP</th>\n",
       "      <th id=\"T_b8178_level0_col11\" class=\"col_heading level0 col11\" >Gross primary education enrollment (%)</th>\n",
       "      <th id=\"T_b8178_level0_col12\" class=\"col_heading level0 col12\" >Gross tertiary education enrollment (%)</th>\n",
       "      <th id=\"T_b8178_level0_col13\" class=\"col_heading level0 col13\" >Infant mortality</th>\n",
       "      <th id=\"T_b8178_level0_col14\" class=\"col_heading level0 col14\" >Life expectancy</th>\n",
       "      <th id=\"T_b8178_level0_col15\" class=\"col_heading level0 col15\" >Maternal mortality ratio</th>\n",
       "      <th id=\"T_b8178_level0_col16\" class=\"col_heading level0 col16\" >Minimum Wage</th>\n",
       "      <th id=\"T_b8178_level0_col17\" class=\"col_heading level0 col17\" >Physicians per thousand</th>\n",
       "      <th id=\"T_b8178_level0_col18\" class=\"col_heading level0 col18\" >Population</th>\n",
       "      <th id=\"T_b8178_level0_col19\" class=\"col_heading level0 col19\" >Population: Labor force participation (%)</th>\n",
       "      <th id=\"T_b8178_level0_col20\" class=\"col_heading level0 col20\" >Tax revenue (%)</th>\n",
       "      <th id=\"T_b8178_level0_col21\" class=\"col_heading level0 col21\" >Total tax rate</th>\n",
       "      <th id=\"T_b8178_level0_col22\" class=\"col_heading level0 col22\" >Unemployment rate</th>\n",
       "      <th id=\"T_b8178_level0_col23\" class=\"col_heading level0 col23\" >Latitude</th>\n",
       "      <th id=\"T_b8178_level0_col24\" class=\"col_heading level0 col24\" >Longitude</th>\n",
       "    </tr>\n",
       "  </thead>\n",
       "  <tbody>\n",
       "    <tr>\n",
       "      <th id=\"T_b8178_level0_row0\" class=\"row_heading level0 row0\" >count</th>\n",
       "      <td id=\"T_b8178_row0_col0\" class=\"data row0 col0\" >195.000000</td>\n",
       "      <td id=\"T_b8178_row0_col1\" class=\"data row0 col1\" >188.000000</td>\n",
       "      <td id=\"T_b8178_row0_col2\" class=\"data row0 col2\" >194.000000</td>\n",
       "      <td id=\"T_b8178_row0_col3\" class=\"data row0 col3\" >189.000000</td>\n",
       "      <td id=\"T_b8178_row0_col4\" class=\"data row0 col4\" >194.000000</td>\n",
       "      <td id=\"T_b8178_row0_col5\" class=\"data row0 col5\" >188.000000</td>\n",
       "      <td id=\"T_b8178_row0_col6\" class=\"data row0 col6\" >178.000000</td>\n",
       "      <td id=\"T_b8178_row0_col7\" class=\"data row0 col7\" >188.000000</td>\n",
       "      <td id=\"T_b8178_row0_col8\" class=\"data row0 col8\" >188.000000</td>\n",
       "      <td id=\"T_b8178_row0_col9\" class=\"data row0 col9\" >175.000000</td>\n",
       "      <td id=\"T_b8178_row0_col10\" class=\"data row0 col10\" >193.000000</td>\n",
       "      <td id=\"T_b8178_row0_col11\" class=\"data row0 col11\" >188.000000</td>\n",
       "      <td id=\"T_b8178_row0_col12\" class=\"data row0 col12\" >183.000000</td>\n",
       "      <td id=\"T_b8178_row0_col13\" class=\"data row0 col13\" >189.000000</td>\n",
       "      <td id=\"T_b8178_row0_col14\" class=\"data row0 col14\" >187.000000</td>\n",
       "      <td id=\"T_b8178_row0_col15\" class=\"data row0 col15\" >181.000000</td>\n",
       "      <td id=\"T_b8178_row0_col16\" class=\"data row0 col16\" >150.000000</td>\n",
       "      <td id=\"T_b8178_row0_col17\" class=\"data row0 col17\" >188.000000</td>\n",
       "      <td id=\"T_b8178_row0_col18\" class=\"data row0 col18\" >194.000000</td>\n",
       "      <td id=\"T_b8178_row0_col19\" class=\"data row0 col19\" >176.000000</td>\n",
       "      <td id=\"T_b8178_row0_col20\" class=\"data row0 col20\" >169.000000</td>\n",
       "      <td id=\"T_b8178_row0_col21\" class=\"data row0 col21\" >183.000000</td>\n",
       "      <td id=\"T_b8178_row0_col22\" class=\"data row0 col22\" >176.000000</td>\n",
       "      <td id=\"T_b8178_row0_col23\" class=\"data row0 col23\" >194.000000</td>\n",
       "      <td id=\"T_b8178_row0_col24\" class=\"data row0 col24\" >194.000000</td>\n",
       "    </tr>\n",
       "    <tr>\n",
       "      <th id=\"T_b8178_level0_row1\" class=\"row_heading level0 row1\" >mean</th>\n",
       "      <td id=\"T_b8178_row1_col0\" class=\"data row1 col0\" >356.764103</td>\n",
       "      <td id=\"T_b8178_row1_col1\" class=\"data row1 col1\" >39.117553</td>\n",
       "      <td id=\"T_b8178_row1_col2\" class=\"data row1 col2\" >689624.365979</td>\n",
       "      <td id=\"T_b8178_row1_col3\" class=\"data row1 col3\" >20.214974</td>\n",
       "      <td id=\"T_b8178_row1_col4\" class=\"data row1 col4\" >360.546392</td>\n",
       "      <td id=\"T_b8178_row1_col5\" class=\"data row1 col5\" >177799.239362</td>\n",
       "      <td id=\"T_b8178_row1_col6\" class=\"data row1 col6\" >190.460955</td>\n",
       "      <td id=\"T_b8178_row1_col7\" class=\"data row1 col7\" >2.698138</td>\n",
       "      <td id=\"T_b8178_row1_col8\" class=\"data row1 col8\" >32.015426</td>\n",
       "      <td id=\"T_b8178_row1_col9\" class=\"data row1 col9\" >1.002457</td>\n",
       "      <td id=\"T_b8178_row1_col10\" class=\"data row1 col10\" >477295901399.538879</td>\n",
       "      <td id=\"T_b8178_row1_col11\" class=\"data row1 col11\" >102.470213</td>\n",
       "      <td id=\"T_b8178_row1_col12\" class=\"data row1 col12\" >37.963388</td>\n",
       "      <td id=\"T_b8178_row1_col13\" class=\"data row1 col13\" >21.332804</td>\n",
       "      <td id=\"T_b8178_row1_col14\" class=\"data row1 col14\" >72.279679</td>\n",
       "      <td id=\"T_b8178_row1_col15\" class=\"data row1 col15\" >160.392265</td>\n",
       "      <td id=\"T_b8178_row1_col16\" class=\"data row1 col16\" >2.194133</td>\n",
       "      <td id=\"T_b8178_row1_col17\" class=\"data row1 col17\" >1.839840</td>\n",
       "      <td id=\"T_b8178_row1_col18\" class=\"data row1 col18\" >39381164.010309</td>\n",
       "      <td id=\"T_b8178_row1_col19\" class=\"data row1 col19\" >62.738068</td>\n",
       "      <td id=\"T_b8178_row1_col20\" class=\"data row1 col20\" >16.573964</td>\n",
       "      <td id=\"T_b8178_row1_col21\" class=\"data row1 col21\" >40.822404</td>\n",
       "      <td id=\"T_b8178_row1_col22\" class=\"data row1 col22\" >6.886364</td>\n",
       "      <td id=\"T_b8178_row1_col23\" class=\"data row1 col23\" >19.092351</td>\n",
       "      <td id=\"T_b8178_row1_col24\" class=\"data row1 col24\" >20.232434</td>\n",
       "    </tr>\n",
       "    <tr>\n",
       "      <th id=\"T_b8178_level0_row2\" class=\"row_heading level0 row2\" >std</th>\n",
       "      <td id=\"T_b8178_row2_col0\" class=\"data row2 col0\" >1982.888967</td>\n",
       "      <td id=\"T_b8178_row2_col1\" class=\"data row2 col1\" >21.783052</td>\n",
       "      <td id=\"T_b8178_row2_col2\" class=\"data row2 col2\" >1921609.228880</td>\n",
       "      <td id=\"T_b8178_row2_col3\" class=\"data row2 col3\" >9.945774</td>\n",
       "      <td id=\"T_b8178_row2_col4\" class=\"data row2 col4\" >323.236419</td>\n",
       "      <td id=\"T_b8178_row2_col5\" class=\"data row2 col5\" >838790.268386</td>\n",
       "      <td id=\"T_b8178_row2_col6\" class=\"data row2 col6\" >397.947380</td>\n",
       "      <td id=\"T_b8178_row2_col7\" class=\"data row2 col7\" >1.282267</td>\n",
       "      <td id=\"T_b8178_row2_col8\" class=\"data row2 col8\" >23.791331</td>\n",
       "      <td id=\"T_b8178_row2_col9\" class=\"data row2 col9\" >0.368858</td>\n",
       "      <td id=\"T_b8178_row2_col10\" class=\"data row2 col10\" >2172173359474.052979</td>\n",
       "      <td id=\"T_b8178_row2_col11\" class=\"data row2 col11\" >13.151607</td>\n",
       "      <td id=\"T_b8178_row2_col12\" class=\"data row2 col12\" >29.261022</td>\n",
       "      <td id=\"T_b8178_row2_col13\" class=\"data row2 col13\" >19.548058</td>\n",
       "      <td id=\"T_b8178_row2_col14\" class=\"data row2 col14\" >7.483661</td>\n",
       "      <td id=\"T_b8178_row2_col15\" class=\"data row2 col15\" >233.502024</td>\n",
       "      <td id=\"T_b8178_row2_col16\" class=\"data row2 col16\" >2.970796</td>\n",
       "      <td id=\"T_b8178_row2_col17\" class=\"data row2 col17\" >1.684261</td>\n",
       "      <td id=\"T_b8178_row2_col18\" class=\"data row2 col18\" >145092391.512999</td>\n",
       "      <td id=\"T_b8178_row2_col19\" class=\"data row2 col19\" >10.502907</td>\n",
       "      <td id=\"T_b8178_row2_col20\" class=\"data row2 col20\" >6.961632</td>\n",
       "      <td id=\"T_b8178_row2_col21\" class=\"data row2 col21\" >20.557662</td>\n",
       "      <td id=\"T_b8178_row2_col22\" class=\"data row2 col22\" >5.079216</td>\n",
       "      <td id=\"T_b8178_row2_col23\" class=\"data row2 col23\" >23.961779</td>\n",
       "      <td id=\"T_b8178_row2_col24\" class=\"data row2 col24\" >66.716110</td>\n",
       "    </tr>\n",
       "    <tr>\n",
       "      <th id=\"T_b8178_level0_row3\" class=\"row_heading level0 row3\" >min</th>\n",
       "      <td id=\"T_b8178_row3_col0\" class=\"data row3 col0\" >2.000000</td>\n",
       "      <td id=\"T_b8178_row3_col1\" class=\"data row3 col1\" >0.600000</td>\n",
       "      <td id=\"T_b8178_row3_col2\" class=\"data row3 col2\" >0.000000</td>\n",
       "      <td id=\"T_b8178_row3_col3\" class=\"data row3 col3\" >5.900000</td>\n",
       "      <td id=\"T_b8178_row3_col4\" class=\"data row3 col4\" >1.000000</td>\n",
       "      <td id=\"T_b8178_row3_col5\" class=\"data row3 col5\" >11.000000</td>\n",
       "      <td id=\"T_b8178_row3_col6\" class=\"data row3 col6\" >99.030000</td>\n",
       "      <td id=\"T_b8178_row3_col7\" class=\"data row3 col7\" >0.980000</td>\n",
       "      <td id=\"T_b8178_row3_col8\" class=\"data row3 col8\" >0.000000</td>\n",
       "      <td id=\"T_b8178_row3_col9\" class=\"data row3 col9\" >0.000000</td>\n",
       "      <td id=\"T_b8178_row3_col10\" class=\"data row3 col10\" >47271463.000000</td>\n",
       "      <td id=\"T_b8178_row3_col11\" class=\"data row3 col11\" >23.400000</td>\n",
       "      <td id=\"T_b8178_row3_col12\" class=\"data row3 col12\" >0.800000</td>\n",
       "      <td id=\"T_b8178_row3_col13\" class=\"data row3 col13\" >1.400000</td>\n",
       "      <td id=\"T_b8178_row3_col14\" class=\"data row3 col14\" >52.800000</td>\n",
       "      <td id=\"T_b8178_row3_col15\" class=\"data row3 col15\" >2.000000</td>\n",
       "      <td id=\"T_b8178_row3_col16\" class=\"data row3 col16\" >0.010000</td>\n",
       "      <td id=\"T_b8178_row3_col17\" class=\"data row3 col17\" >0.010000</td>\n",
       "      <td id=\"T_b8178_row3_col18\" class=\"data row3 col18\" >836.000000</td>\n",
       "      <td id=\"T_b8178_row3_col19\" class=\"data row3 col19\" >38.000000</td>\n",
       "      <td id=\"T_b8178_row3_col20\" class=\"data row3 col20\" >0.000000</td>\n",
       "      <td id=\"T_b8178_row3_col21\" class=\"data row3 col21\" >8.000000</td>\n",
       "      <td id=\"T_b8178_row3_col22\" class=\"data row3 col22\" >0.090000</td>\n",
       "      <td id=\"T_b8178_row3_col23\" class=\"data row3 col23\" >-40.900557</td>\n",
       "      <td id=\"T_b8178_row3_col24\" class=\"data row3 col24\" >-175.198242</td>\n",
       "    </tr>\n",
       "    <tr>\n",
       "      <th id=\"T_b8178_level0_row4\" class=\"row_heading level0 row4\" >25%</th>\n",
       "      <td id=\"T_b8178_row4_col0\" class=\"data row4 col0\" >35.500000</td>\n",
       "      <td id=\"T_b8178_row4_col1\" class=\"data row4 col1\" >21.700000</td>\n",
       "      <td id=\"T_b8178_row4_col2\" class=\"data row4 col2\" >23828.250000</td>\n",
       "      <td id=\"T_b8178_row4_col3\" class=\"data row4 col3\" >11.300000</td>\n",
       "      <td id=\"T_b8178_row4_col4\" class=\"data row4 col4\" >82.500000</td>\n",
       "      <td id=\"T_b8178_row4_col5\" class=\"data row4 col5\" >2304.250000</td>\n",
       "      <td id=\"T_b8178_row4_col6\" class=\"data row4 col6\" >113.885000</td>\n",
       "      <td id=\"T_b8178_row4_col7\" class=\"data row4 col7\" >1.705000</td>\n",
       "      <td id=\"T_b8178_row4_col8\" class=\"data row4 col8\" >11.000000</td>\n",
       "      <td id=\"T_b8178_row4_col9\" class=\"data row4 col9\" >0.755000</td>\n",
       "      <td id=\"T_b8178_row4_col10\" class=\"data row4 col10\" >8454619608.000000</td>\n",
       "      <td id=\"T_b8178_row4_col11\" class=\"data row4 col11\" >98.950000</td>\n",
       "      <td id=\"T_b8178_row4_col12\" class=\"data row4 col12\" >12.150000</td>\n",
       "      <td id=\"T_b8178_row4_col13\" class=\"data row4 col13\" >6.000000</td>\n",
       "      <td id=\"T_b8178_row4_col14\" class=\"data row4 col14\" >67.000000</td>\n",
       "      <td id=\"T_b8178_row4_col15\" class=\"data row4 col15\" >13.000000</td>\n",
       "      <td id=\"T_b8178_row4_col16\" class=\"data row4 col16\" >0.402500</td>\n",
       "      <td id=\"T_b8178_row4_col17\" class=\"data row4 col17\" >0.332500</td>\n",
       "      <td id=\"T_b8178_row4_col18\" class=\"data row4 col18\" >1962678.000000</td>\n",
       "      <td id=\"T_b8178_row4_col19\" class=\"data row4 col19\" >56.150000</td>\n",
       "      <td id=\"T_b8178_row4_col20\" class=\"data row4 col20\" >11.700000</td>\n",
       "      <td id=\"T_b8178_row4_col21\" class=\"data row4 col21\" >30.600000</td>\n",
       "      <td id=\"T_b8178_row4_col22\" class=\"data row4 col22\" >3.395000</td>\n",
       "      <td id=\"T_b8178_row4_col23\" class=\"data row4 col23\" >4.544175</td>\n",
       "      <td id=\"T_b8178_row4_col24\" class=\"data row4 col24\" >-7.941496</td>\n",
       "    </tr>\n",
       "    <tr>\n",
       "      <th id=\"T_b8178_level0_row5\" class=\"row_heading level0 row5\" >50%</th>\n",
       "      <td id=\"T_b8178_row5_col0\" class=\"data row5 col0\" >89.000000</td>\n",
       "      <td id=\"T_b8178_row5_col1\" class=\"data row5 col1\" >39.600000</td>\n",
       "      <td id=\"T_b8178_row5_col2\" class=\"data row5 col2\" >119511.000000</td>\n",
       "      <td id=\"T_b8178_row5_col3\" class=\"data row5 col3\" >17.950000</td>\n",
       "      <td id=\"T_b8178_row5_col4\" class=\"data row5 col4\" >255.500000</td>\n",
       "      <td id=\"T_b8178_row5_col5\" class=\"data row5 col5\" >12303.000000</td>\n",
       "      <td id=\"T_b8178_row5_col6\" class=\"data row5 col6\" >125.340000</td>\n",
       "      <td id=\"T_b8178_row5_col7\" class=\"data row5 col7\" >2.245000</td>\n",
       "      <td id=\"T_b8178_row5_col8\" class=\"data row5 col8\" >32.000000</td>\n",
       "      <td id=\"T_b8178_row5_col9\" class=\"data row5 col9\" >0.980000</td>\n",
       "      <td id=\"T_b8178_row5_col10\" class=\"data row5 col10\" >34387229486.000000</td>\n",
       "      <td id=\"T_b8178_row5_col11\" class=\"data row5 col11\" >102.550000</td>\n",
       "      <td id=\"T_b8178_row5_col12\" class=\"data row5 col12\" >31.200000</td>\n",
       "      <td id=\"T_b8178_row5_col13\" class=\"data row5 col13\" >14.000000</td>\n",
       "      <td id=\"T_b8178_row5_col14\" class=\"data row5 col14\" >73.200000</td>\n",
       "      <td id=\"T_b8178_row5_col15\" class=\"data row5 col15\" >53.000000</td>\n",
       "      <td id=\"T_b8178_row5_col16\" class=\"data row5 col16\" >1.045000</td>\n",
       "      <td id=\"T_b8178_row5_col17\" class=\"data row5 col17\" >1.460000</td>\n",
       "      <td id=\"T_b8178_row5_col18\" class=\"data row5 col18\" >8826588.000000</td>\n",
       "      <td id=\"T_b8178_row5_col19\" class=\"data row5 col19\" >62.450000</td>\n",
       "      <td id=\"T_b8178_row5_col20\" class=\"data row5 col20\" >16.300000</td>\n",
       "      <td id=\"T_b8178_row5_col21\" class=\"data row5 col21\" >37.200000</td>\n",
       "      <td id=\"T_b8178_row5_col22\" class=\"data row5 col22\" >5.360000</td>\n",
       "      <td id=\"T_b8178_row5_col23\" class=\"data row5 col23\" >17.273849</td>\n",
       "      <td id=\"T_b8178_row5_col24\" class=\"data row5 col24\" >20.972652</td>\n",
       "    </tr>\n",
       "    <tr>\n",
       "      <th id=\"T_b8178_level0_row6\" class=\"row_heading level0 row6\" >75%</th>\n",
       "      <td id=\"T_b8178_row6_col0\" class=\"data row6 col0\" >216.500000</td>\n",
       "      <td id=\"T_b8178_row6_col1\" class=\"data row6 col1\" >55.375000</td>\n",
       "      <td id=\"T_b8178_row6_col2\" class=\"data row6 col2\" >524256.000000</td>\n",
       "      <td id=\"T_b8178_row6_col3\" class=\"data row6 col3\" >28.750000</td>\n",
       "      <td id=\"T_b8178_row6_col4\" class=\"data row6 col4\" >506.750000</td>\n",
       "      <td id=\"T_b8178_row6_col5\" class=\"data row6 col5\" >63884.250000</td>\n",
       "      <td id=\"T_b8178_row6_col6\" class=\"data row6 col6\" >157.265000</td>\n",
       "      <td id=\"T_b8178_row6_col7\" class=\"data row6 col7\" >3.597500</td>\n",
       "      <td id=\"T_b8178_row6_col8\" class=\"data row6 col8\" >48.175000</td>\n",
       "      <td id=\"T_b8178_row6_col9\" class=\"data row6 col9\" >1.240000</td>\n",
       "      <td id=\"T_b8178_row6_col10\" class=\"data row6 col10\" >234094042939.000000</td>\n",
       "      <td id=\"T_b8178_row6_col11\" class=\"data row6 col11\" >108.025000</td>\n",
       "      <td id=\"T_b8178_row6_col12\" class=\"data row6 col12\" >63.150000</td>\n",
       "      <td id=\"T_b8178_row6_col13\" class=\"data row6 col13\" >32.700000</td>\n",
       "      <td id=\"T_b8178_row6_col14\" class=\"data row6 col14\" >77.500000</td>\n",
       "      <td id=\"T_b8178_row6_col15\" class=\"data row6 col15\" >186.000000</td>\n",
       "      <td id=\"T_b8178_row6_col16\" class=\"data row6 col16\" >2.447500</td>\n",
       "      <td id=\"T_b8178_row6_col17\" class=\"data row6 col17\" >2.935000</td>\n",
       "      <td id=\"T_b8178_row6_col18\" class=\"data row6 col18\" >28585489.750000</td>\n",
       "      <td id=\"T_b8178_row6_col19\" class=\"data row6 col19\" >69.500000</td>\n",
       "      <td id=\"T_b8178_row6_col20\" class=\"data row6 col20\" >21.100000</td>\n",
       "      <td id=\"T_b8178_row6_col21\" class=\"data row6 col21\" >48.000000</td>\n",
       "      <td id=\"T_b8178_row6_col22\" class=\"data row6 col22\" >9.490000</td>\n",
       "      <td id=\"T_b8178_row6_col23\" class=\"data row6 col23\" >40.124603</td>\n",
       "      <td id=\"T_b8178_row6_col24\" class=\"data row6 col24\" >48.281523</td>\n",
       "    </tr>\n",
       "    <tr>\n",
       "      <th id=\"T_b8178_level0_row7\" class=\"row_heading level0 row7\" >max</th>\n",
       "      <td id=\"T_b8178_row7_col0\" class=\"data row7 col0\" >26337.000000</td>\n",
       "      <td id=\"T_b8178_row7_col1\" class=\"data row7 col1\" >82.600000</td>\n",
       "      <td id=\"T_b8178_row7_col2\" class=\"data row7 col2\" >17098240.000000</td>\n",
       "      <td id=\"T_b8178_row7_col3\" class=\"data row7 col3\" >46.080000</td>\n",
       "      <td id=\"T_b8178_row7_col4\" class=\"data row7 col4\" >1876.000000</td>\n",
       "      <td id=\"T_b8178_row7_col5\" class=\"data row7 col5\" >9893038.000000</td>\n",
       "      <td id=\"T_b8178_row7_col6\" class=\"data row7 col6\" >4583.710000</td>\n",
       "      <td id=\"T_b8178_row7_col7\" class=\"data row7 col7\" >6.910000</td>\n",
       "      <td id=\"T_b8178_row7_col8\" class=\"data row7 col8\" >98.300000</td>\n",
       "      <td id=\"T_b8178_row7_col9\" class=\"data row7 col9\" >2.000000</td>\n",
       "      <td id=\"T_b8178_row7_col10\" class=\"data row7 col10\" >21427700000000.000000</td>\n",
       "      <td id=\"T_b8178_row7_col11\" class=\"data row7 col11\" >142.500000</td>\n",
       "      <td id=\"T_b8178_row7_col12\" class=\"data row7 col12\" >136.600000</td>\n",
       "      <td id=\"T_b8178_row7_col13\" class=\"data row7 col13\" >84.500000</td>\n",
       "      <td id=\"T_b8178_row7_col14\" class=\"data row7 col14\" >85.400000</td>\n",
       "      <td id=\"T_b8178_row7_col15\" class=\"data row7 col15\" >1150.000000</td>\n",
       "      <td id=\"T_b8178_row7_col16\" class=\"data row7 col16\" >13.590000</td>\n",
       "      <td id=\"T_b8178_row7_col17\" class=\"data row7 col17\" >8.420000</td>\n",
       "      <td id=\"T_b8178_row7_col18\" class=\"data row7 col18\" >1397715000.000000</td>\n",
       "      <td id=\"T_b8178_row7_col19\" class=\"data row7 col19\" >86.800000</td>\n",
       "      <td id=\"T_b8178_row7_col20\" class=\"data row7 col20\" >37.200000</td>\n",
       "      <td id=\"T_b8178_row7_col21\" class=\"data row7 col21\" >219.600000</td>\n",
       "      <td id=\"T_b8178_row7_col22\" class=\"data row7 col22\" >28.180000</td>\n",
       "      <td id=\"T_b8178_row7_col23\" class=\"data row7 col23\" >64.963051</td>\n",
       "      <td id=\"T_b8178_row7_col24\" class=\"data row7 col24\" >178.065032</td>\n",
       "    </tr>\n",
       "  </tbody>\n",
       "</table>\n"
      ],
      "text/plain": [
       "<pandas.io.formats.style.Styler at 0x182b38b2190>"
      ]
     },
     "execution_count": 7,
     "metadata": {},
     "output_type": "execute_result"
    }
   ],
   "source": [
    "print(f\"Summary Of The Dataset with numerical columns :\")\n",
    "df_clean.describe().style.set_properties(**{\"background-color\": \"#121d6b\",\"color\":\"#e9c46a\",\"border\": \"1.5px solid black\"})"
   ]
  },
  {
   "cell_type": "code",
   "execution_count": 8,
   "metadata": {},
   "outputs": [
    {
     "name": "stdout",
     "output_type": "stream",
     "text": [
      "<class 'pandas.core.frame.DataFrame'>\n",
      "RangeIndex: 195 entries, 0 to 194\n",
      "Data columns (total 35 columns):\n",
      " #   Column                                     Non-Null Count  Dtype  \n",
      "---  ------                                     --------------  -----  \n",
      " 0   Country                                    195 non-null    object \n",
      " 1   Density                                    195 non-null    float64\n",
      " 2   Country Code                               188 non-null    object \n",
      " 3   Agricultural Land( %)                      188 non-null    float64\n",
      " 4   Land Area                                  194 non-null    float64\n",
      " 5   Armed Forces size                          171 non-null    object \n",
      " 6   Birth Rate                                 189 non-null    float64\n",
      " 7   Calling Code                               194 non-null    float64\n",
      " 8   Capital                                    192 non-null    object \n",
      " 9   CO2 Emissions                              188 non-null    float64\n",
      " 10  CPI                                        178 non-null    float64\n",
      " 11  CPI Change (%)                             179 non-null    object \n",
      " 12  Currency Code                              180 non-null    object \n",
      " 13  Fertility Rate                             188 non-null    float64\n",
      " 14  Forested Area (%)                          188 non-null    float64\n",
      " 15  Gasoline Price                             175 non-null    float64\n",
      " 16  GDP                                        193 non-null    float64\n",
      " 17  Gross primary education enrollment (%)     188 non-null    float64\n",
      " 18  Gross tertiary education enrollment (%)    183 non-null    float64\n",
      " 19  Infant mortality                           189 non-null    float64\n",
      " 20  Largest City                               189 non-null    object \n",
      " 21  Life expectancy                            187 non-null    float64\n",
      " 22  Maternal mortality ratio                   181 non-null    float64\n",
      " 23  Minimum Wage                               150 non-null    float64\n",
      " 24  Official language                          190 non-null    object \n",
      " 25  Out of pocket health expenditure           188 non-null    object \n",
      " 26  Physicians per thousand                    188 non-null    float64\n",
      " 27  Population                                 194 non-null    float64\n",
      " 28  Population: Labor force participation (%)  176 non-null    float64\n",
      " 29  Tax revenue (%)                            169 non-null    float64\n",
      " 30  Total tax rate                             183 non-null    float64\n",
      " 31  Unemployment rate                          176 non-null    float64\n",
      " 32  Urban_population                           190 non-null    object \n",
      " 33  Latitude                                   194 non-null    float64\n",
      " 34  Longitude                                  194 non-null    float64\n",
      "dtypes: float64(25), object(10)\n",
      "memory usage: 53.4+ KB\n"
     ]
    }
   ],
   "source": [
    "df_clean.info()"
   ]
  },
  {
   "cell_type": "markdown",
   "metadata": {},
   "source": [
    "# VISUALIZATION"
   ]
  },
  {
   "cell_type": "markdown",
   "metadata": {},
   "source": [
    "Analyze population density and land area to study spatial distribution patterns."
   ]
  },
  {
   "cell_type": "code",
   "execution_count": 9,
   "metadata": {},
   "outputs": [
    {
     "data": {
      "application/vnd.plotly.v1+json": {
       "config": {
        "plotlyServerURL": "https://plot.ly"
       },
       "data": [
        {
         "hovertemplate": "<b>%{hovertext}</b><br><br>Land Area=%{x}<br>Density=%{y}<extra></extra>",
         "hovertext": [
          "Afghanistan",
          "Albania",
          "Algeria",
          "Andorra",
          "Angola",
          "Antigua and Barbuda",
          "Argentina",
          "Armenia",
          "Australia",
          "Austria",
          "Azerbaijan",
          "The Bahamas",
          "Bahrain",
          "Bangladesh",
          "Barbados",
          "Belarus",
          "Belgium",
          "Belize",
          "Benin",
          "Bhutan",
          "Bolivia",
          "Bosnia and Herzegovina",
          "Botswana",
          "Brazil",
          "Brunei",
          "Bulgaria",
          "Burkina Faso",
          "Burundi",
          "Ivory Coast",
          "Cape Verde",
          "Cambodia",
          "Cameroon",
          "Canada",
          "Central African Republic",
          "Chad",
          "Chile",
          "China",
          "Colombia",
          "Comoros",
          "Republic of the Congo",
          "Costa Rica",
          "Croatia",
          "Cuba",
          "Cyprus",
          "Czech Republic",
          "Democratic Republic of the Congo",
          "Denmark",
          "Djibouti",
          "Dominica",
          "Dominican Republic",
          "Ecuador",
          "Egypt",
          "El Salvador",
          "Equatorial Guinea",
          "Eritrea",
          "Estonia",
          "Eswatini",
          "Ethiopia",
          "Fiji",
          "Finland",
          "France",
          "Gabon",
          "The Gambia",
          "Georgia",
          "Germany",
          "Ghana",
          "Greece",
          "Grenada",
          "Guatemala",
          "Guinea",
          "Guinea-Bissau",
          "Guyana",
          "Haiti",
          "Vatican City",
          "Honduras",
          "Hungary",
          "Iceland",
          "India",
          "Indonesia",
          "Iran",
          "Iraq",
          "Republic of Ireland",
          "Israel",
          "Italy",
          "Jamaica",
          "Japan",
          "Jordan",
          "Kazakhstan",
          "Kenya",
          "Kiribati",
          "Kuwait",
          "Kyrgyzstan",
          "Laos",
          "Latvia",
          "Lebanon",
          "Lesotho",
          "Liberia",
          "Libya",
          "Liechtenstein",
          "Lithuania",
          "Luxembourg",
          "Madagascar",
          "Malawi",
          "Malaysia",
          "Maldives",
          "Mali",
          "Malta",
          "Marshall Islands",
          "Mauritania",
          "Mauritius",
          "Mexico",
          "Federated States of Micronesia",
          "Moldova",
          "Monaco",
          "Mongolia",
          "Montenegro",
          "Morocco",
          "Mozambique",
          "Myanmar",
          "Namibia",
          "Nauru",
          "Nepal",
          "Netherlands",
          "New Zealand",
          "Nicaragua",
          "Niger",
          "Nigeria",
          "North Korea",
          "North Macedonia",
          "Norway",
          "Oman",
          "Pakistan",
          "Palau",
          "Panama",
          "Papua New Guinea",
          "Paraguay",
          "Peru",
          "Philippines",
          "Poland",
          "Portugal",
          "Qatar",
          "Romania",
          "Russia",
          "Rwanda",
          "Saint Kitts and Nevis",
          "Saint Lucia",
          "Saint Vincent and the Grenadines",
          "Samoa",
          "San Marino",
          "S�����������",
          "Saudi Arabia",
          "Senegal",
          "Serbia",
          "Seychelles",
          "Sierra Leone",
          "Singapore",
          "Slovakia",
          "Slovenia",
          "Solomon Islands",
          "Somalia",
          "South Africa",
          "South Korea",
          "South Sudan",
          "Spain",
          "Sri Lanka",
          "Sudan",
          "Suriname",
          "Sweden",
          "Switzerland",
          "Syria",
          "Tajikistan",
          "Tanzania",
          "Thailand",
          "East Timor",
          "Togo",
          "Tonga",
          "Trinidad and Tobago",
          "Tunisia",
          "Turkey",
          "Turkmenistan",
          "Tuvalu",
          "Uganda",
          "Ukraine",
          "United Arab Emirates",
          "United Kingdom",
          "United States",
          "Uruguay",
          "Uzbekistan",
          "Vanuatu",
          "Venezuela",
          "Vietnam",
          "Yemen",
          "Zambia",
          "Zimbabwe"
         ],
         "legendgroup": "",
         "marker": {
          "color": "#636efa",
          "symbol": "circle"
         },
         "mode": "markers",
         "name": "",
         "orientation": "v",
         "showlegend": false,
         "type": "scatter",
         "x": [
          652230,
          28748,
          2381741,
          468,
          1246700,
          443,
          2780400,
          29743,
          7741220,
          83871,
          86600,
          13880,
          765,
          148460,
          430,
          207600,
          30528,
          22966,
          112622,
          38394,
          1098581,
          51197,
          581730,
          8515770,
          5765,
          110879,
          274200,
          27830,
          322463,
          4033,
          181035,
          475440,
          9984670,
          622984,
          1284000,
          756096,
          9596960,
          1138910,
          2235,
          342000,
          51100,
          56594,
          110860,
          9251,
          78867,
          2344858,
          43094,
          23200,
          751,
          48670,
          283561,
          1001450,
          21041,
          28051,
          117600,
          45228,
          17364,
          1104300,
          18274,
          338145,
          643801,
          267667,
          11300,
          69700,
          357022,
          238533,
          131957,
          349,
          108889,
          245857,
          36125,
          214969,
          27750,
          0,
          112090,
          93028,
          103000,
          3287263,
          1904569,
          1648195,
          438317,
          70273,
          20770,
          301340,
          10991,
          377944,
          89342,
          2724900,
          580367,
          811,
          17818,
          199951,
          236800,
          64589,
          10400,
          30355,
          111369,
          1759540,
          160,
          65300,
          2586,
          587041,
          118484,
          329847,
          298,
          1240192,
          316,
          181,
          1030700,
          2040,
          1964375,
          702,
          33851,
          2,
          1564116,
          13812,
          446550,
          799380,
          676578,
          824292,
          21,
          147181,
          41543,
          268838,
          130370,
          1267000,
          923768,
          120538,
          25713,
          323802,
          309500,
          796095,
          459,
          75420,
          462840,
          406752,
          1285216,
          300000,
          312685,
          92212,
          11586,
          238391,
          17098240,
          26338,
          261,
          616,
          389,
          2831,
          61,
          964,
          2149690,
          196722,
          77474,
          455,
          71740,
          716,
          49035,
          20273,
          28896,
          637657,
          1219090,
          99720,
          644329,
          505370,
          65610,
          1861484,
          163820,
          450295,
          41277,
          185180,
          144100,
          947300,
          513120,
          14874,
          56785,
          747,
          5128,
          163610,
          783562,
          488100,
          26,
          241038,
          603550,
          83600,
          243610,
          9833517,
          176215,
          447400,
          12189,
          912050,
          331210,
          527968,
          752618,
          390757
         ],
         "xaxis": "x",
         "y": [
          60,
          105,
          18,
          164,
          26,
          223,
          17,
          104,
          3,
          109,
          123,
          39,
          2239,
          1265,
          668,
          47,
          383,
          17,
          108,
          20,
          11,
          64,
          4,
          25,
          83,
          64,
          76,
          463,
          83,
          138,
          95,
          56,
          4,
          8,
          13,
          26,
          153,
          46,
          467,
          16,
          100,
          73,
          106,
          131,
          139,
          40,
          137,
          43,
          96,
          225,
          71,
          103,
          313,
          50,
          35,
          31,
          67,
          115,
          49,
          18,
          119,
          9,
          239,
          57,
          240,
          137,
          81,
          331,
          167,
          53,
          70,
          4,
          414,
          2003,
          89,
          107,
          3,
          464,
          151,
          52,
          93,
          72,
          400,
          206,
          273,
          347,
          115,
          7,
          94,
          147,
          240,
          34,
          32,
          30,
          667,
          71,
          53,
          4,
          238,
          43,
          242,
          48,
          203,
          99,
          1802,
          17,
          1380,
          329,
          5,
          626,
          66,
          784,
          123,
          26337,
          2,
          47,
          83,
          40,
          83,
          3,
          541,
          203,
          508,
          18,
          55,
          19,
          226,
          214,
          83,
          15,
          16,
          287,
          39,
          58,
          20,
          18,
          26,
          368,
          124,
          111,
          248,
          84,
          9,
          525,
          205,
          301,
          284,
          70,
          566,
          228,
          16,
          87,
          100,
          214,
          111,
          8358,
          114,
          103,
          25,
          25,
          49,
          527,
          18,
          94,
          341,
          25,
          4,
          25,
          219,
          95,
          68,
          67,
          137,
          89,
          152,
          147,
          273,
          76,
          110,
          13,
          393,
          229,
          75,
          118,
          281,
          36,
          20,
          79,
          25,
          32,
          314,
          56,
          25,
          38
         ],
         "yaxis": "y"
        }
       ],
       "layout": {
        "legend": {
         "tracegroupgap": 0
        },
        "template": {
         "data": {
          "bar": [
           {
            "error_x": {
             "color": "#2a3f5f"
            },
            "error_y": {
             "color": "#2a3f5f"
            },
            "marker": {
             "line": {
              "color": "#E5ECF6",
              "width": 0.5
             },
             "pattern": {
              "fillmode": "overlay",
              "size": 10,
              "solidity": 0.2
             }
            },
            "type": "bar"
           }
          ],
          "barpolar": [
           {
            "marker": {
             "line": {
              "color": "#E5ECF6",
              "width": 0.5
             },
             "pattern": {
              "fillmode": "overlay",
              "size": 10,
              "solidity": 0.2
             }
            },
            "type": "barpolar"
           }
          ],
          "carpet": [
           {
            "aaxis": {
             "endlinecolor": "#2a3f5f",
             "gridcolor": "white",
             "linecolor": "white",
             "minorgridcolor": "white",
             "startlinecolor": "#2a3f5f"
            },
            "baxis": {
             "endlinecolor": "#2a3f5f",
             "gridcolor": "white",
             "linecolor": "white",
             "minorgridcolor": "white",
             "startlinecolor": "#2a3f5f"
            },
            "type": "carpet"
           }
          ],
          "choropleth": [
           {
            "colorbar": {
             "outlinewidth": 0,
             "ticks": ""
            },
            "type": "choropleth"
           }
          ],
          "contour": [
           {
            "colorbar": {
             "outlinewidth": 0,
             "ticks": ""
            },
            "colorscale": [
             [
              0,
              "#0d0887"
             ],
             [
              0.1111111111111111,
              "#46039f"
             ],
             [
              0.2222222222222222,
              "#7201a8"
             ],
             [
              0.3333333333333333,
              "#9c179e"
             ],
             [
              0.4444444444444444,
              "#bd3786"
             ],
             [
              0.5555555555555556,
              "#d8576b"
             ],
             [
              0.6666666666666666,
              "#ed7953"
             ],
             [
              0.7777777777777778,
              "#fb9f3a"
             ],
             [
              0.8888888888888888,
              "#fdca26"
             ],
             [
              1,
              "#f0f921"
             ]
            ],
            "type": "contour"
           }
          ],
          "contourcarpet": [
           {
            "colorbar": {
             "outlinewidth": 0,
             "ticks": ""
            },
            "type": "contourcarpet"
           }
          ],
          "heatmap": [
           {
            "colorbar": {
             "outlinewidth": 0,
             "ticks": ""
            },
            "colorscale": [
             [
              0,
              "#0d0887"
             ],
             [
              0.1111111111111111,
              "#46039f"
             ],
             [
              0.2222222222222222,
              "#7201a8"
             ],
             [
              0.3333333333333333,
              "#9c179e"
             ],
             [
              0.4444444444444444,
              "#bd3786"
             ],
             [
              0.5555555555555556,
              "#d8576b"
             ],
             [
              0.6666666666666666,
              "#ed7953"
             ],
             [
              0.7777777777777778,
              "#fb9f3a"
             ],
             [
              0.8888888888888888,
              "#fdca26"
             ],
             [
              1,
              "#f0f921"
             ]
            ],
            "type": "heatmap"
           }
          ],
          "heatmapgl": [
           {
            "colorbar": {
             "outlinewidth": 0,
             "ticks": ""
            },
            "colorscale": [
             [
              0,
              "#0d0887"
             ],
             [
              0.1111111111111111,
              "#46039f"
             ],
             [
              0.2222222222222222,
              "#7201a8"
             ],
             [
              0.3333333333333333,
              "#9c179e"
             ],
             [
              0.4444444444444444,
              "#bd3786"
             ],
             [
              0.5555555555555556,
              "#d8576b"
             ],
             [
              0.6666666666666666,
              "#ed7953"
             ],
             [
              0.7777777777777778,
              "#fb9f3a"
             ],
             [
              0.8888888888888888,
              "#fdca26"
             ],
             [
              1,
              "#f0f921"
             ]
            ],
            "type": "heatmapgl"
           }
          ],
          "histogram": [
           {
            "marker": {
             "pattern": {
              "fillmode": "overlay",
              "size": 10,
              "solidity": 0.2
             }
            },
            "type": "histogram"
           }
          ],
          "histogram2d": [
           {
            "colorbar": {
             "outlinewidth": 0,
             "ticks": ""
            },
            "colorscale": [
             [
              0,
              "#0d0887"
             ],
             [
              0.1111111111111111,
              "#46039f"
             ],
             [
              0.2222222222222222,
              "#7201a8"
             ],
             [
              0.3333333333333333,
              "#9c179e"
             ],
             [
              0.4444444444444444,
              "#bd3786"
             ],
             [
              0.5555555555555556,
              "#d8576b"
             ],
             [
              0.6666666666666666,
              "#ed7953"
             ],
             [
              0.7777777777777778,
              "#fb9f3a"
             ],
             [
              0.8888888888888888,
              "#fdca26"
             ],
             [
              1,
              "#f0f921"
             ]
            ],
            "type": "histogram2d"
           }
          ],
          "histogram2dcontour": [
           {
            "colorbar": {
             "outlinewidth": 0,
             "ticks": ""
            },
            "colorscale": [
             [
              0,
              "#0d0887"
             ],
             [
              0.1111111111111111,
              "#46039f"
             ],
             [
              0.2222222222222222,
              "#7201a8"
             ],
             [
              0.3333333333333333,
              "#9c179e"
             ],
             [
              0.4444444444444444,
              "#bd3786"
             ],
             [
              0.5555555555555556,
              "#d8576b"
             ],
             [
              0.6666666666666666,
              "#ed7953"
             ],
             [
              0.7777777777777778,
              "#fb9f3a"
             ],
             [
              0.8888888888888888,
              "#fdca26"
             ],
             [
              1,
              "#f0f921"
             ]
            ],
            "type": "histogram2dcontour"
           }
          ],
          "mesh3d": [
           {
            "colorbar": {
             "outlinewidth": 0,
             "ticks": ""
            },
            "type": "mesh3d"
           }
          ],
          "parcoords": [
           {
            "line": {
             "colorbar": {
              "outlinewidth": 0,
              "ticks": ""
             }
            },
            "type": "parcoords"
           }
          ],
          "pie": [
           {
            "automargin": true,
            "type": "pie"
           }
          ],
          "scatter": [
           {
            "fillpattern": {
             "fillmode": "overlay",
             "size": 10,
             "solidity": 0.2
            },
            "type": "scatter"
           }
          ],
          "scatter3d": [
           {
            "line": {
             "colorbar": {
              "outlinewidth": 0,
              "ticks": ""
             }
            },
            "marker": {
             "colorbar": {
              "outlinewidth": 0,
              "ticks": ""
             }
            },
            "type": "scatter3d"
           }
          ],
          "scattercarpet": [
           {
            "marker": {
             "colorbar": {
              "outlinewidth": 0,
              "ticks": ""
             }
            },
            "type": "scattercarpet"
           }
          ],
          "scattergeo": [
           {
            "marker": {
             "colorbar": {
              "outlinewidth": 0,
              "ticks": ""
             }
            },
            "type": "scattergeo"
           }
          ],
          "scattergl": [
           {
            "marker": {
             "colorbar": {
              "outlinewidth": 0,
              "ticks": ""
             }
            },
            "type": "scattergl"
           }
          ],
          "scattermapbox": [
           {
            "marker": {
             "colorbar": {
              "outlinewidth": 0,
              "ticks": ""
             }
            },
            "type": "scattermapbox"
           }
          ],
          "scatterpolar": [
           {
            "marker": {
             "colorbar": {
              "outlinewidth": 0,
              "ticks": ""
             }
            },
            "type": "scatterpolar"
           }
          ],
          "scatterpolargl": [
           {
            "marker": {
             "colorbar": {
              "outlinewidth": 0,
              "ticks": ""
             }
            },
            "type": "scatterpolargl"
           }
          ],
          "scatterternary": [
           {
            "marker": {
             "colorbar": {
              "outlinewidth": 0,
              "ticks": ""
             }
            },
            "type": "scatterternary"
           }
          ],
          "surface": [
           {
            "colorbar": {
             "outlinewidth": 0,
             "ticks": ""
            },
            "colorscale": [
             [
              0,
              "#0d0887"
             ],
             [
              0.1111111111111111,
              "#46039f"
             ],
             [
              0.2222222222222222,
              "#7201a8"
             ],
             [
              0.3333333333333333,
              "#9c179e"
             ],
             [
              0.4444444444444444,
              "#bd3786"
             ],
             [
              0.5555555555555556,
              "#d8576b"
             ],
             [
              0.6666666666666666,
              "#ed7953"
             ],
             [
              0.7777777777777778,
              "#fb9f3a"
             ],
             [
              0.8888888888888888,
              "#fdca26"
             ],
             [
              1,
              "#f0f921"
             ]
            ],
            "type": "surface"
           }
          ],
          "table": [
           {
            "cells": {
             "fill": {
              "color": "#EBF0F8"
             },
             "line": {
              "color": "white"
             }
            },
            "header": {
             "fill": {
              "color": "#C8D4E3"
             },
             "line": {
              "color": "white"
             }
            },
            "type": "table"
           }
          ]
         },
         "layout": {
          "annotationdefaults": {
           "arrowcolor": "#2a3f5f",
           "arrowhead": 0,
           "arrowwidth": 1
          },
          "autotypenumbers": "strict",
          "coloraxis": {
           "colorbar": {
            "outlinewidth": 0,
            "ticks": ""
           }
          },
          "colorscale": {
           "diverging": [
            [
             0,
             "#8e0152"
            ],
            [
             0.1,
             "#c51b7d"
            ],
            [
             0.2,
             "#de77ae"
            ],
            [
             0.3,
             "#f1b6da"
            ],
            [
             0.4,
             "#fde0ef"
            ],
            [
             0.5,
             "#f7f7f7"
            ],
            [
             0.6,
             "#e6f5d0"
            ],
            [
             0.7,
             "#b8e186"
            ],
            [
             0.8,
             "#7fbc41"
            ],
            [
             0.9,
             "#4d9221"
            ],
            [
             1,
             "#276419"
            ]
           ],
           "sequential": [
            [
             0,
             "#0d0887"
            ],
            [
             0.1111111111111111,
             "#46039f"
            ],
            [
             0.2222222222222222,
             "#7201a8"
            ],
            [
             0.3333333333333333,
             "#9c179e"
            ],
            [
             0.4444444444444444,
             "#bd3786"
            ],
            [
             0.5555555555555556,
             "#d8576b"
            ],
            [
             0.6666666666666666,
             "#ed7953"
            ],
            [
             0.7777777777777778,
             "#fb9f3a"
            ],
            [
             0.8888888888888888,
             "#fdca26"
            ],
            [
             1,
             "#f0f921"
            ]
           ],
           "sequentialminus": [
            [
             0,
             "#0d0887"
            ],
            [
             0.1111111111111111,
             "#46039f"
            ],
            [
             0.2222222222222222,
             "#7201a8"
            ],
            [
             0.3333333333333333,
             "#9c179e"
            ],
            [
             0.4444444444444444,
             "#bd3786"
            ],
            [
             0.5555555555555556,
             "#d8576b"
            ],
            [
             0.6666666666666666,
             "#ed7953"
            ],
            [
             0.7777777777777778,
             "#fb9f3a"
            ],
            [
             0.8888888888888888,
             "#fdca26"
            ],
            [
             1,
             "#f0f921"
            ]
           ]
          },
          "colorway": [
           "#636efa",
           "#EF553B",
           "#00cc96",
           "#ab63fa",
           "#FFA15A",
           "#19d3f3",
           "#FF6692",
           "#B6E880",
           "#FF97FF",
           "#FECB52"
          ],
          "font": {
           "color": "#2a3f5f"
          },
          "geo": {
           "bgcolor": "white",
           "lakecolor": "white",
           "landcolor": "#E5ECF6",
           "showlakes": true,
           "showland": true,
           "subunitcolor": "white"
          },
          "hoverlabel": {
           "align": "left"
          },
          "hovermode": "closest",
          "mapbox": {
           "style": "light"
          },
          "paper_bgcolor": "white",
          "plot_bgcolor": "#E5ECF6",
          "polar": {
           "angularaxis": {
            "gridcolor": "white",
            "linecolor": "white",
            "ticks": ""
           },
           "bgcolor": "#E5ECF6",
           "radialaxis": {
            "gridcolor": "white",
            "linecolor": "white",
            "ticks": ""
           }
          },
          "scene": {
           "xaxis": {
            "backgroundcolor": "#E5ECF6",
            "gridcolor": "white",
            "gridwidth": 2,
            "linecolor": "white",
            "showbackground": true,
            "ticks": "",
            "zerolinecolor": "white"
           },
           "yaxis": {
            "backgroundcolor": "#E5ECF6",
            "gridcolor": "white",
            "gridwidth": 2,
            "linecolor": "white",
            "showbackground": true,
            "ticks": "",
            "zerolinecolor": "white"
           },
           "zaxis": {
            "backgroundcolor": "#E5ECF6",
            "gridcolor": "white",
            "gridwidth": 2,
            "linecolor": "white",
            "showbackground": true,
            "ticks": "",
            "zerolinecolor": "white"
           }
          },
          "shapedefaults": {
           "line": {
            "color": "#2a3f5f"
           }
          },
          "ternary": {
           "aaxis": {
            "gridcolor": "white",
            "linecolor": "white",
            "ticks": ""
           },
           "baxis": {
            "gridcolor": "white",
            "linecolor": "white",
            "ticks": ""
           },
           "bgcolor": "#E5ECF6",
           "caxis": {
            "gridcolor": "white",
            "linecolor": "white",
            "ticks": ""
           }
          },
          "title": {
           "x": 0.05
          },
          "xaxis": {
           "automargin": true,
           "gridcolor": "white",
           "linecolor": "white",
           "ticks": "",
           "title": {
            "standoff": 15
           },
           "zerolinecolor": "white",
           "zerolinewidth": 2
          },
          "yaxis": {
           "automargin": true,
           "gridcolor": "white",
           "linecolor": "white",
           "ticks": "",
           "title": {
            "standoff": 15
           },
           "zerolinecolor": "white",
           "zerolinewidth": 2
          }
         }
        },
        "title": {
         "text": "Population Density vs. Land Area"
        },
        "xaxis": {
         "anchor": "y",
         "domain": [
          0,
          1
         ],
         "title": {
          "text": "Land Area (log scale)"
         },
         "type": "log"
        },
        "yaxis": {
         "anchor": "x",
         "domain": [
          0,
          1
         ],
         "title": {
          "text": "Population Density (log scale)"
         },
         "type": "log"
        }
       }
      }
     },
     "metadata": {},
     "output_type": "display_data"
    }
   ],
   "source": [
    "import plotly.express as px\n",
    "import pandas as pd\n",
    "\n",
    "\n",
    "# Filter the columns 'Density', 'Land Area', and 'Country'\n",
    "df_filtered = df_clean[['Density', 'Land Area', 'Country']]\n",
    "\n",
    "# Remove rows with missing values, if any\n",
    "df_filtered = df_filtered.dropna()\n",
    "\n",
    "# Create a scatter plot using population density and land area\n",
    "fig = px.scatter(df_filtered, x='Land Area', y='Density', log_x=True, log_y=True, \n",
    "                 hover_name='Country', title='Population Density vs. Land Area')\n",
    "\n",
    "# Set axis labels\n",
    "fig.update_xaxes(title_text='Land Area (log scale)')\n",
    "fig.update_yaxes(title_text='Population Density (log scale)')\n",
    "\n",
    "# Show the scatter plot\n",
    "fig.show()\n"
   ]
  },
  {
   "cell_type": "markdown",
   "metadata": {},
   "source": [
    "Investigate the relationship between agricultural land and food security."
   ]
  },
  {
   "cell_type": "code",
   "execution_count": 10,
   "metadata": {},
   "outputs": [
    {
     "data": {
      "application/vnd.plotly.v1+json": {
       "config": {
        "plotlyServerURL": "https://plot.ly"
       },
       "data": [
        {
         "coloraxis": "coloraxis",
         "geo": "geo",
         "hovertemplate": "<b>%{hovertext}</b><br><br>Country=%{location}<br>Agriculture Land=%{z}<extra></extra>",
         "hovertext": [
          "Afghanistan",
          "Albania",
          "Algeria",
          "Andorra",
          "Angola",
          "Antigua and Barbuda",
          "Argentina",
          "Armenia",
          "Australia",
          "Austria",
          "Azerbaijan",
          "The Bahamas",
          "Bahrain",
          "Bangladesh",
          "Barbados",
          "Belarus",
          "Belgium",
          "Belize",
          "Benin",
          "Bhutan",
          "Bolivia",
          "Bosnia and Herzegovina",
          "Botswana",
          "Brazil",
          "Brunei",
          "Bulgaria",
          "Burkina Faso",
          "Burundi",
          "Ivory Coast",
          "Cape Verde",
          "Cambodia",
          "Cameroon",
          "Canada",
          "Central African Republic",
          "Chad",
          "Chile",
          "China",
          "Colombia",
          "Comoros",
          "Republic of the Congo",
          "Costa Rica",
          "Croatia",
          "Cuba",
          "Cyprus",
          "Czech Republic",
          "Democratic Republic of the Congo",
          "Denmark",
          "Djibouti",
          "Dominica",
          "Dominican Republic",
          "Ecuador",
          "Egypt",
          "El Salvador",
          "Equatorial Guinea",
          "Eritrea",
          "Estonia",
          "Ethiopia",
          "Fiji",
          "Finland",
          "France",
          "Gabon",
          "The Gambia",
          "Georgia",
          "Germany",
          "Ghana",
          "Greece",
          "Grenada",
          "Guatemala",
          "Guinea",
          "Guinea-Bissau",
          "Guyana",
          "Haiti",
          "Honduras",
          "Hungary",
          "Iceland",
          "India",
          "Indonesia",
          "Iran",
          "Iraq",
          "Republic of Ireland",
          "Israel",
          "Italy",
          "Jamaica",
          "Japan",
          "Jordan",
          "Kazakhstan",
          "Kenya",
          "Kiribati",
          "Kuwait",
          "Kyrgyzstan",
          "Laos",
          "Latvia",
          "Lebanon",
          "Lesotho",
          "Liberia",
          "Libya",
          "Liechtenstein",
          "Lithuania",
          "Luxembourg",
          "Madagascar",
          "Malawi",
          "Malaysia",
          "Maldives",
          "Mali",
          "Malta",
          "Marshall Islands",
          "Mauritania",
          "Mauritius",
          "Mexico",
          "Federated States of Micronesia",
          "Moldova",
          "Mongolia",
          "Montenegro",
          "Morocco",
          "Mozambique",
          "Myanmar",
          "Namibia",
          "Nepal",
          "Netherlands",
          "New Zealand",
          "Nicaragua",
          "Niger",
          "Nigeria",
          "North Korea",
          "Norway",
          "Oman",
          "Pakistan",
          "Palau",
          "Panama",
          "Papua New Guinea",
          "Paraguay",
          "Peru",
          "Philippines",
          "Poland",
          "Portugal",
          "Qatar",
          "Romania",
          "Russia",
          "Rwanda",
          "Saint Kitts and Nevis",
          "Saint Lucia",
          "Saint Vincent and the Grenadines",
          "Samoa",
          "San Marino",
          "S�����������",
          "Saudi Arabia",
          "Senegal",
          "Serbia",
          "Seychelles",
          "Sierra Leone",
          "Singapore",
          "Slovakia",
          "Slovenia",
          "Solomon Islands",
          "Somalia",
          "South Africa",
          "South Korea",
          "Spain",
          "Sri Lanka",
          "Sudan",
          "Suriname",
          "Sweden",
          "Switzerland",
          "Syria",
          "Tajikistan",
          "Tanzania",
          "Thailand",
          "East Timor",
          "Togo",
          "Tonga",
          "Trinidad and Tobago",
          "Tunisia",
          "Turkey",
          "Turkmenistan",
          "Tuvalu",
          "Uganda",
          "Ukraine",
          "United Arab Emirates",
          "United Kingdom",
          "United States",
          "Uruguay",
          "Uzbekistan",
          "Vanuatu",
          "Venezuela",
          "Vietnam",
          "Yemen",
          "Zambia",
          "Zimbabwe"
         ],
         "locationmode": "country names",
         "locations": [
          "Afghanistan",
          "Albania",
          "Algeria",
          "Andorra",
          "Angola",
          "Antigua and Barbuda",
          "Argentina",
          "Armenia",
          "Australia",
          "Austria",
          "Azerbaijan",
          "The Bahamas",
          "Bahrain",
          "Bangladesh",
          "Barbados",
          "Belarus",
          "Belgium",
          "Belize",
          "Benin",
          "Bhutan",
          "Bolivia",
          "Bosnia and Herzegovina",
          "Botswana",
          "Brazil",
          "Brunei",
          "Bulgaria",
          "Burkina Faso",
          "Burundi",
          "Ivory Coast",
          "Cape Verde",
          "Cambodia",
          "Cameroon",
          "Canada",
          "Central African Republic",
          "Chad",
          "Chile",
          "China",
          "Colombia",
          "Comoros",
          "Republic of the Congo",
          "Costa Rica",
          "Croatia",
          "Cuba",
          "Cyprus",
          "Czech Republic",
          "Democratic Republic of the Congo",
          "Denmark",
          "Djibouti",
          "Dominica",
          "Dominican Republic",
          "Ecuador",
          "Egypt",
          "El Salvador",
          "Equatorial Guinea",
          "Eritrea",
          "Estonia",
          "Ethiopia",
          "Fiji",
          "Finland",
          "France",
          "Gabon",
          "The Gambia",
          "Georgia",
          "Germany",
          "Ghana",
          "Greece",
          "Grenada",
          "Guatemala",
          "Guinea",
          "Guinea-Bissau",
          "Guyana",
          "Haiti",
          "Honduras",
          "Hungary",
          "Iceland",
          "India",
          "Indonesia",
          "Iran",
          "Iraq",
          "Republic of Ireland",
          "Israel",
          "Italy",
          "Jamaica",
          "Japan",
          "Jordan",
          "Kazakhstan",
          "Kenya",
          "Kiribati",
          "Kuwait",
          "Kyrgyzstan",
          "Laos",
          "Latvia",
          "Lebanon",
          "Lesotho",
          "Liberia",
          "Libya",
          "Liechtenstein",
          "Lithuania",
          "Luxembourg",
          "Madagascar",
          "Malawi",
          "Malaysia",
          "Maldives",
          "Mali",
          "Malta",
          "Marshall Islands",
          "Mauritania",
          "Mauritius",
          "Mexico",
          "Federated States of Micronesia",
          "Moldova",
          "Mongolia",
          "Montenegro",
          "Morocco",
          "Mozambique",
          "Myanmar",
          "Namibia",
          "Nepal",
          "Netherlands",
          "New Zealand",
          "Nicaragua",
          "Niger",
          "Nigeria",
          "North Korea",
          "Norway",
          "Oman",
          "Pakistan",
          "Palau",
          "Panama",
          "Papua New Guinea",
          "Paraguay",
          "Peru",
          "Philippines",
          "Poland",
          "Portugal",
          "Qatar",
          "Romania",
          "Russia",
          "Rwanda",
          "Saint Kitts and Nevis",
          "Saint Lucia",
          "Saint Vincent and the Grenadines",
          "Samoa",
          "San Marino",
          "S�����������",
          "Saudi Arabia",
          "Senegal",
          "Serbia",
          "Seychelles",
          "Sierra Leone",
          "Singapore",
          "Slovakia",
          "Slovenia",
          "Solomon Islands",
          "Somalia",
          "South Africa",
          "South Korea",
          "Spain",
          "Sri Lanka",
          "Sudan",
          "Suriname",
          "Sweden",
          "Switzerland",
          "Syria",
          "Tajikistan",
          "Tanzania",
          "Thailand",
          "East Timor",
          "Togo",
          "Tonga",
          "Trinidad and Tobago",
          "Tunisia",
          "Turkey",
          "Turkmenistan",
          "Tuvalu",
          "Uganda",
          "Ukraine",
          "United Arab Emirates",
          "United Kingdom",
          "United States",
          "Uruguay",
          "Uzbekistan",
          "Vanuatu",
          "Venezuela",
          "Vietnam",
          "Yemen",
          "Zambia",
          "Zimbabwe"
         ],
         "name": "",
         "type": "choropleth",
         "z": [
          378945.62999999995,
          12390.387999999999,
          414422.93399999995,
          187.20000000000002,
          592182.5,
          90.815,
          1509757.1999999997,
          17518.627,
          3731268.0400000005,
          27174.204,
          49968.200000000004,
          194.32,
          84.915,
          104812.76,
          100.19000000000001,
          87192,
          13615.488,
          1607.6200000000001,
          37503.126,
          5221.584000000001,
          382306.18799999997,
          22065.907,
          265268.88,
          2886846.03,
          155.65500000000003,
          51336.977,
          121196.4,
          22041.36,
          208956.024,
          790.4680000000001,
          55939.815,
          97940.64000000001,
          688942.2300000001,
          51084.687999999995,
          509748,
          160292.35199999998,
          5393491.5200000005,
          458980.73,
          1598.0249999999999,
          106362,
          17629.5,
          15619.944000000001,
          66405.14,
          1128.622,
          35647.884,
          272003.528,
          26718.28,
          17028.800000000003,
          250.08299999999997,
          23702.29,
          62950.542,
          38055.1,
          16075.324,
          2833.151,
          88435.2,
          10447.668,
          400860.89999999997,
          4257.842000000001,
          25360.875,
          337351.724,
          53533.4,
          6757.4,
          24046.499999999996,
          170299.494,
          164587.77,
          62811.53200000001,
          82.015,
          39200.04,
          145055.63,
          20952.5,
          18487.334,
          18536.999999999996,
          32394.01,
          54328.352,
          19261,
          1985506.852,
          599939.235,
          464790.98999999993,
          93799.838,
          45326.085,
          5109.42,
          130178.88000000002,
          4506.3099999999995,
          46487.112,
          10721.039999999999,
          2190819.6,
          281477.995,
          340.62,
          1496.712,
          109973.05,
          24390.4,
          20087.179,
          6687.2,
          23555.479999999996,
          31183.320000000003,
          153079.97999999998,
          51.52,
          30821.600000000002,
          1388.682,
          417973.19200000004,
          72749.17599999999,
          86749.761,
          78.37400000000001,
          419184.89599999995,
          102.384,
          115.659,
          396819.5,
          864.9599999999999,
          1072548.75,
          220.428,
          25117.442,
          1118342.94,
          2624.28,
          305886.75,
          507606.3,
          131932.71,
          388241.532,
          42240.947,
          22142.418999999998,
          108879.39000000001,
          54885.770000000004,
          457387,
          717767.736,
          26277.284,
          8742.654,
          14237,
          380533.41,
          50.031,
          22927.68,
          12033.84,
          224120.352,
          237764.96,
          125100.00000000001,
          146649.26499999998,
          36423.740000000005,
          671.9879999999999,
          140173.908,
          2274065.92,
          19332.092000000004,
          60.291000000000004,
          107.184,
          99.584,
          351.044,
          10.187,
          488.748,
          1736949.5199999998,
          90688.842,
          30447.281999999996,
          15.47,
          39241.780000000006,
          6.444000000000001,
          19221.72,
          6223.811,
          1126.944,
          448272.871,
          972833.82,
          17351.28,
          265824.62,
          28671.570000000003,
          534245.9079999999,
          982.9200000000001,
          33321.83,
          15850.368,
          140366.44,
          49138.100000000006,
          424390.39999999997,
          222180.96,
          3807.744,
          39863.07000000001,
          342.126,
          538.4399999999999,
          106019.28,
          390213.876,
          351432,
          15.6,
          173306.32200000001,
          432745.35000000003,
          4598,
          174668.37000000002,
          4366081.548,
          145553.59,
          281414.6,
          1864.917,
          223452.25,
          130165.52999999998,
          235473.728,
          241590.378,
          163727.183
         ]
        }
       ],
       "layout": {
        "coloraxis": {
         "colorbar": {
          "title": {
           "text": "Agriculture Land"
          }
         },
         "colorscale": [
          [
           0,
           "#0d0887"
          ],
          [
           0.1111111111111111,
           "#46039f"
          ],
          [
           0.2222222222222222,
           "#7201a8"
          ],
          [
           0.3333333333333333,
           "#9c179e"
          ],
          [
           0.4444444444444444,
           "#bd3786"
          ],
          [
           0.5555555555555556,
           "#d8576b"
          ],
          [
           0.6666666666666666,
           "#ed7953"
          ],
          [
           0.7777777777777778,
           "#fb9f3a"
          ],
          [
           0.8888888888888888,
           "#fdca26"
          ],
          [
           1,
           "#f0f921"
          ]
         ]
        },
        "geo": {
         "center": {},
         "countrycolor": "black",
         "domain": {
          "x": [
           0,
           1
          ],
          "y": [
           0,
           1
          ]
         },
         "projection": {
          "type": "equirectangular"
         },
         "showcoastlines": false,
         "showcountries": true,
         "showframe": false
        },
        "legend": {
         "tracegroupgap": 0
        },
        "template": {
         "data": {
          "bar": [
           {
            "error_x": {
             "color": "#2a3f5f"
            },
            "error_y": {
             "color": "#2a3f5f"
            },
            "marker": {
             "line": {
              "color": "#E5ECF6",
              "width": 0.5
             },
             "pattern": {
              "fillmode": "overlay",
              "size": 10,
              "solidity": 0.2
             }
            },
            "type": "bar"
           }
          ],
          "barpolar": [
           {
            "marker": {
             "line": {
              "color": "#E5ECF6",
              "width": 0.5
             },
             "pattern": {
              "fillmode": "overlay",
              "size": 10,
              "solidity": 0.2
             }
            },
            "type": "barpolar"
           }
          ],
          "carpet": [
           {
            "aaxis": {
             "endlinecolor": "#2a3f5f",
             "gridcolor": "white",
             "linecolor": "white",
             "minorgridcolor": "white",
             "startlinecolor": "#2a3f5f"
            },
            "baxis": {
             "endlinecolor": "#2a3f5f",
             "gridcolor": "white",
             "linecolor": "white",
             "minorgridcolor": "white",
             "startlinecolor": "#2a3f5f"
            },
            "type": "carpet"
           }
          ],
          "choropleth": [
           {
            "colorbar": {
             "outlinewidth": 0,
             "ticks": ""
            },
            "type": "choropleth"
           }
          ],
          "contour": [
           {
            "colorbar": {
             "outlinewidth": 0,
             "ticks": ""
            },
            "colorscale": [
             [
              0,
              "#0d0887"
             ],
             [
              0.1111111111111111,
              "#46039f"
             ],
             [
              0.2222222222222222,
              "#7201a8"
             ],
             [
              0.3333333333333333,
              "#9c179e"
             ],
             [
              0.4444444444444444,
              "#bd3786"
             ],
             [
              0.5555555555555556,
              "#d8576b"
             ],
             [
              0.6666666666666666,
              "#ed7953"
             ],
             [
              0.7777777777777778,
              "#fb9f3a"
             ],
             [
              0.8888888888888888,
              "#fdca26"
             ],
             [
              1,
              "#f0f921"
             ]
            ],
            "type": "contour"
           }
          ],
          "contourcarpet": [
           {
            "colorbar": {
             "outlinewidth": 0,
             "ticks": ""
            },
            "type": "contourcarpet"
           }
          ],
          "heatmap": [
           {
            "colorbar": {
             "outlinewidth": 0,
             "ticks": ""
            },
            "colorscale": [
             [
              0,
              "#0d0887"
             ],
             [
              0.1111111111111111,
              "#46039f"
             ],
             [
              0.2222222222222222,
              "#7201a8"
             ],
             [
              0.3333333333333333,
              "#9c179e"
             ],
             [
              0.4444444444444444,
              "#bd3786"
             ],
             [
              0.5555555555555556,
              "#d8576b"
             ],
             [
              0.6666666666666666,
              "#ed7953"
             ],
             [
              0.7777777777777778,
              "#fb9f3a"
             ],
             [
              0.8888888888888888,
              "#fdca26"
             ],
             [
              1,
              "#f0f921"
             ]
            ],
            "type": "heatmap"
           }
          ],
          "heatmapgl": [
           {
            "colorbar": {
             "outlinewidth": 0,
             "ticks": ""
            },
            "colorscale": [
             [
              0,
              "#0d0887"
             ],
             [
              0.1111111111111111,
              "#46039f"
             ],
             [
              0.2222222222222222,
              "#7201a8"
             ],
             [
              0.3333333333333333,
              "#9c179e"
             ],
             [
              0.4444444444444444,
              "#bd3786"
             ],
             [
              0.5555555555555556,
              "#d8576b"
             ],
             [
              0.6666666666666666,
              "#ed7953"
             ],
             [
              0.7777777777777778,
              "#fb9f3a"
             ],
             [
              0.8888888888888888,
              "#fdca26"
             ],
             [
              1,
              "#f0f921"
             ]
            ],
            "type": "heatmapgl"
           }
          ],
          "histogram": [
           {
            "marker": {
             "pattern": {
              "fillmode": "overlay",
              "size": 10,
              "solidity": 0.2
             }
            },
            "type": "histogram"
           }
          ],
          "histogram2d": [
           {
            "colorbar": {
             "outlinewidth": 0,
             "ticks": ""
            },
            "colorscale": [
             [
              0,
              "#0d0887"
             ],
             [
              0.1111111111111111,
              "#46039f"
             ],
             [
              0.2222222222222222,
              "#7201a8"
             ],
             [
              0.3333333333333333,
              "#9c179e"
             ],
             [
              0.4444444444444444,
              "#bd3786"
             ],
             [
              0.5555555555555556,
              "#d8576b"
             ],
             [
              0.6666666666666666,
              "#ed7953"
             ],
             [
              0.7777777777777778,
              "#fb9f3a"
             ],
             [
              0.8888888888888888,
              "#fdca26"
             ],
             [
              1,
              "#f0f921"
             ]
            ],
            "type": "histogram2d"
           }
          ],
          "histogram2dcontour": [
           {
            "colorbar": {
             "outlinewidth": 0,
             "ticks": ""
            },
            "colorscale": [
             [
              0,
              "#0d0887"
             ],
             [
              0.1111111111111111,
              "#46039f"
             ],
             [
              0.2222222222222222,
              "#7201a8"
             ],
             [
              0.3333333333333333,
              "#9c179e"
             ],
             [
              0.4444444444444444,
              "#bd3786"
             ],
             [
              0.5555555555555556,
              "#d8576b"
             ],
             [
              0.6666666666666666,
              "#ed7953"
             ],
             [
              0.7777777777777778,
              "#fb9f3a"
             ],
             [
              0.8888888888888888,
              "#fdca26"
             ],
             [
              1,
              "#f0f921"
             ]
            ],
            "type": "histogram2dcontour"
           }
          ],
          "mesh3d": [
           {
            "colorbar": {
             "outlinewidth": 0,
             "ticks": ""
            },
            "type": "mesh3d"
           }
          ],
          "parcoords": [
           {
            "line": {
             "colorbar": {
              "outlinewidth": 0,
              "ticks": ""
             }
            },
            "type": "parcoords"
           }
          ],
          "pie": [
           {
            "automargin": true,
            "type": "pie"
           }
          ],
          "scatter": [
           {
            "fillpattern": {
             "fillmode": "overlay",
             "size": 10,
             "solidity": 0.2
            },
            "type": "scatter"
           }
          ],
          "scatter3d": [
           {
            "line": {
             "colorbar": {
              "outlinewidth": 0,
              "ticks": ""
             }
            },
            "marker": {
             "colorbar": {
              "outlinewidth": 0,
              "ticks": ""
             }
            },
            "type": "scatter3d"
           }
          ],
          "scattercarpet": [
           {
            "marker": {
             "colorbar": {
              "outlinewidth": 0,
              "ticks": ""
             }
            },
            "type": "scattercarpet"
           }
          ],
          "scattergeo": [
           {
            "marker": {
             "colorbar": {
              "outlinewidth": 0,
              "ticks": ""
             }
            },
            "type": "scattergeo"
           }
          ],
          "scattergl": [
           {
            "marker": {
             "colorbar": {
              "outlinewidth": 0,
              "ticks": ""
             }
            },
            "type": "scattergl"
           }
          ],
          "scattermapbox": [
           {
            "marker": {
             "colorbar": {
              "outlinewidth": 0,
              "ticks": ""
             }
            },
            "type": "scattermapbox"
           }
          ],
          "scatterpolar": [
           {
            "marker": {
             "colorbar": {
              "outlinewidth": 0,
              "ticks": ""
             }
            },
            "type": "scatterpolar"
           }
          ],
          "scatterpolargl": [
           {
            "marker": {
             "colorbar": {
              "outlinewidth": 0,
              "ticks": ""
             }
            },
            "type": "scatterpolargl"
           }
          ],
          "scatterternary": [
           {
            "marker": {
             "colorbar": {
              "outlinewidth": 0,
              "ticks": ""
             }
            },
            "type": "scatterternary"
           }
          ],
          "surface": [
           {
            "colorbar": {
             "outlinewidth": 0,
             "ticks": ""
            },
            "colorscale": [
             [
              0,
              "#0d0887"
             ],
             [
              0.1111111111111111,
              "#46039f"
             ],
             [
              0.2222222222222222,
              "#7201a8"
             ],
             [
              0.3333333333333333,
              "#9c179e"
             ],
             [
              0.4444444444444444,
              "#bd3786"
             ],
             [
              0.5555555555555556,
              "#d8576b"
             ],
             [
              0.6666666666666666,
              "#ed7953"
             ],
             [
              0.7777777777777778,
              "#fb9f3a"
             ],
             [
              0.8888888888888888,
              "#fdca26"
             ],
             [
              1,
              "#f0f921"
             ]
            ],
            "type": "surface"
           }
          ],
          "table": [
           {
            "cells": {
             "fill": {
              "color": "#EBF0F8"
             },
             "line": {
              "color": "white"
             }
            },
            "header": {
             "fill": {
              "color": "#C8D4E3"
             },
             "line": {
              "color": "white"
             }
            },
            "type": "table"
           }
          ]
         },
         "layout": {
          "annotationdefaults": {
           "arrowcolor": "#2a3f5f",
           "arrowhead": 0,
           "arrowwidth": 1
          },
          "autotypenumbers": "strict",
          "coloraxis": {
           "colorbar": {
            "outlinewidth": 0,
            "ticks": ""
           }
          },
          "colorscale": {
           "diverging": [
            [
             0,
             "#8e0152"
            ],
            [
             0.1,
             "#c51b7d"
            ],
            [
             0.2,
             "#de77ae"
            ],
            [
             0.3,
             "#f1b6da"
            ],
            [
             0.4,
             "#fde0ef"
            ],
            [
             0.5,
             "#f7f7f7"
            ],
            [
             0.6,
             "#e6f5d0"
            ],
            [
             0.7,
             "#b8e186"
            ],
            [
             0.8,
             "#7fbc41"
            ],
            [
             0.9,
             "#4d9221"
            ],
            [
             1,
             "#276419"
            ]
           ],
           "sequential": [
            [
             0,
             "#0d0887"
            ],
            [
             0.1111111111111111,
             "#46039f"
            ],
            [
             0.2222222222222222,
             "#7201a8"
            ],
            [
             0.3333333333333333,
             "#9c179e"
            ],
            [
             0.4444444444444444,
             "#bd3786"
            ],
            [
             0.5555555555555556,
             "#d8576b"
            ],
            [
             0.6666666666666666,
             "#ed7953"
            ],
            [
             0.7777777777777778,
             "#fb9f3a"
            ],
            [
             0.8888888888888888,
             "#fdca26"
            ],
            [
             1,
             "#f0f921"
            ]
           ],
           "sequentialminus": [
            [
             0,
             "#0d0887"
            ],
            [
             0.1111111111111111,
             "#46039f"
            ],
            [
             0.2222222222222222,
             "#7201a8"
            ],
            [
             0.3333333333333333,
             "#9c179e"
            ],
            [
             0.4444444444444444,
             "#bd3786"
            ],
            [
             0.5555555555555556,
             "#d8576b"
            ],
            [
             0.6666666666666666,
             "#ed7953"
            ],
            [
             0.7777777777777778,
             "#fb9f3a"
            ],
            [
             0.8888888888888888,
             "#fdca26"
            ],
            [
             1,
             "#f0f921"
            ]
           ]
          },
          "colorway": [
           "#636efa",
           "#EF553B",
           "#00cc96",
           "#ab63fa",
           "#FFA15A",
           "#19d3f3",
           "#FF6692",
           "#B6E880",
           "#FF97FF",
           "#FECB52"
          ],
          "font": {
           "color": "#2a3f5f"
          },
          "geo": {
           "bgcolor": "white",
           "lakecolor": "white",
           "landcolor": "#E5ECF6",
           "showlakes": true,
           "showland": true,
           "subunitcolor": "white"
          },
          "hoverlabel": {
           "align": "left"
          },
          "hovermode": "closest",
          "mapbox": {
           "style": "light"
          },
          "paper_bgcolor": "white",
          "plot_bgcolor": "#E5ECF6",
          "polar": {
           "angularaxis": {
            "gridcolor": "white",
            "linecolor": "white",
            "ticks": ""
           },
           "bgcolor": "#E5ECF6",
           "radialaxis": {
            "gridcolor": "white",
            "linecolor": "white",
            "ticks": ""
           }
          },
          "scene": {
           "xaxis": {
            "backgroundcolor": "#E5ECF6",
            "gridcolor": "white",
            "gridwidth": 2,
            "linecolor": "white",
            "showbackground": true,
            "ticks": "",
            "zerolinecolor": "white"
           },
           "yaxis": {
            "backgroundcolor": "#E5ECF6",
            "gridcolor": "white",
            "gridwidth": 2,
            "linecolor": "white",
            "showbackground": true,
            "ticks": "",
            "zerolinecolor": "white"
           },
           "zaxis": {
            "backgroundcolor": "#E5ECF6",
            "gridcolor": "white",
            "gridwidth": 2,
            "linecolor": "white",
            "showbackground": true,
            "ticks": "",
            "zerolinecolor": "white"
           }
          },
          "shapedefaults": {
           "line": {
            "color": "#2a3f5f"
           }
          },
          "ternary": {
           "aaxis": {
            "gridcolor": "white",
            "linecolor": "white",
            "ticks": ""
           },
           "baxis": {
            "gridcolor": "white",
            "linecolor": "white",
            "ticks": ""
           },
           "bgcolor": "#E5ECF6",
           "caxis": {
            "gridcolor": "white",
            "linecolor": "white",
            "ticks": ""
           }
          },
          "title": {
           "x": 0.05
          },
          "xaxis": {
           "automargin": true,
           "gridcolor": "white",
           "linecolor": "white",
           "ticks": "",
           "title": {
            "standoff": 15
           },
           "zerolinecolor": "white",
           "zerolinewidth": 2
          },
          "yaxis": {
           "automargin": true,
           "gridcolor": "white",
           "linecolor": "white",
           "ticks": "",
           "title": {
            "standoff": 15
           },
           "zerolinecolor": "white",
           "zerolinewidth": 2
          }
         }
        },
        "title": {
         "text": "Agriculture Land by Country"
        }
       }
      }
     },
     "metadata": {},
     "output_type": "display_data"
    }
   ],
   "source": [
    "\n",
    "# Assuming you have a dataframe named 'df_clean' with the relevant columns\n",
    "df_clean['Agriculture Land'] = (df_clean[\"Agricultural Land( %)\"] / 100 * df_clean[\"Land Area\"])\n",
    "\n",
    "# Filter the relevant columns for analysis\n",
    "df_filtered = df_clean[['Country', 'Agriculture Land']]\n",
    "\n",
    "# Remove rows with missing values, if any\n",
    "df_filtered = df_filtered.dropna()\n",
    "\n",
    "# Create a choropleth map to visualize the relationship\n",
    "fig = px.choropleth(df_filtered,\n",
    "                    locations='Country',\n",
    "                    locationmode='country names',\n",
    "                    color='Agriculture Land',\n",
    "                    hover_name='Country',\n",
    "                    title='Agriculture Land by Country')\n",
    "\n",
    "# Set axis labels\n",
    "fig.update_geos(showcountries=True, countrycolor=\"black\")\n",
    "fig.update_coloraxes(colorbar_title=\"Agriculture Land\")\n",
    "fig.update_layout(geo=dict(showframe=False, showcoastlines=False, projection_type='equirectangular'))\n",
    "\n",
    "# Show the map\n",
    "fig.show()\n"
   ]
  },
  {
   "cell_type": "markdown",
   "metadata": {},
   "source": [
    "Examine carbon dioxide emissions and their impact on climate change."
   ]
  },
  {
   "cell_type": "code",
   "execution_count": 11,
   "metadata": {},
   "outputs": [
    {
     "data": {
      "application/vnd.plotly.v1+json": {
       "config": {
        "plotlyServerURL": "https://plot.ly"
       },
       "data": [
        {
         "coloraxis": "coloraxis",
         "geo": "geo",
         "hovertemplate": "<b>%{hovertext}</b><br><br>Country=%{location}<br>Carbon Dioxide Emission=%{z}<extra></extra>",
         "hovertext": [
          "Afghanistan",
          "Albania",
          "Algeria",
          "Andorra",
          "Angola",
          "Antigua and Barbuda",
          "Argentina",
          "Armenia",
          "Australia",
          "Austria",
          "Azerbaijan",
          "The Bahamas",
          "Bahrain",
          "Bangladesh",
          "Barbados",
          "Belarus",
          "Belgium",
          "Belize",
          "Benin",
          "Bhutan",
          "Bolivia",
          "Bosnia and Herzegovina",
          "Botswana",
          "Brazil",
          "Brunei",
          "Bulgaria",
          "Burkina Faso",
          "Burundi",
          "Ivory Coast",
          "Cape Verde",
          "Cambodia",
          "Cameroon",
          "Canada",
          "Central African Republic",
          "Chad",
          "Chile",
          "China",
          "Colombia",
          "Comoros",
          "Republic of the Congo",
          "Costa Rica",
          "Croatia",
          "Cuba",
          "Cyprus",
          "Czech Republic",
          "Democratic Republic of the Congo",
          "Denmark",
          "Djibouti",
          "Dominica",
          "Dominican Republic",
          "Ecuador",
          "Egypt",
          "El Salvador",
          "Equatorial Guinea",
          "Eritrea",
          "Estonia",
          "Ethiopia",
          "Fiji",
          "Finland",
          "France",
          "Gabon",
          "The Gambia",
          "Georgia",
          "Germany",
          "Ghana",
          "Greece",
          "Grenada",
          "Guatemala",
          "Guinea",
          "Guinea-Bissau",
          "Guyana",
          "Haiti",
          "Honduras",
          "Hungary",
          "Iceland",
          "India",
          "Indonesia",
          "Iran",
          "Iraq",
          "Republic of Ireland",
          "Israel",
          "Italy",
          "Jamaica",
          "Japan",
          "Jordan",
          "Kazakhstan",
          "Kenya",
          "Kiribati",
          "Kuwait",
          "Kyrgyzstan",
          "Laos",
          "Latvia",
          "Lebanon",
          "Lesotho",
          "Liberia",
          "Libya",
          "Liechtenstein",
          "Lithuania",
          "Luxembourg",
          "Madagascar",
          "Malawi",
          "Malaysia",
          "Maldives",
          "Mali",
          "Malta",
          "Marshall Islands",
          "Mauritania",
          "Mauritius",
          "Mexico",
          "Federated States of Micronesia",
          "Moldova",
          "Mongolia",
          "Montenegro",
          "Morocco",
          "Mozambique",
          "Myanmar",
          "Namibia",
          "Nepal",
          "Netherlands",
          "New Zealand",
          "Nicaragua",
          "Niger",
          "Nigeria",
          "North Korea",
          "Norway",
          "Oman",
          "Pakistan",
          "Palau",
          "Panama",
          "Papua New Guinea",
          "Paraguay",
          "Peru",
          "Philippines",
          "Poland",
          "Portugal",
          "Qatar",
          "Romania",
          "Russia",
          "Rwanda",
          "Saint Kitts and Nevis",
          "Saint Lucia",
          "Saint Vincent and the Grenadines",
          "Samoa",
          "S�����������",
          "Saudi Arabia",
          "Senegal",
          "Serbia",
          "Seychelles",
          "Sierra Leone",
          "Singapore",
          "Slovakia",
          "Slovenia",
          "Solomon Islands",
          "Somalia",
          "South Africa",
          "South Korea",
          "Spain",
          "Sri Lanka",
          "Sudan",
          "Suriname",
          "Sweden",
          "Switzerland",
          "Syria",
          "Tajikistan",
          "Tanzania",
          "Thailand",
          "East Timor",
          "Togo",
          "Tonga",
          "Trinidad and Tobago",
          "Tunisia",
          "Turkey",
          "Turkmenistan",
          "Tuvalu",
          "Uganda",
          "Ukraine",
          "United Arab Emirates",
          "United Kingdom",
          "United States",
          "Uruguay",
          "Uzbekistan",
          "Vanuatu",
          "Venezuela",
          "Vietnam",
          "Yemen",
          "Zambia",
          "Zimbabwe"
         ],
         "locationmode": "country names",
         "locations": [
          "Afghanistan",
          "Albania",
          "Algeria",
          "Andorra",
          "Angola",
          "Antigua and Barbuda",
          "Argentina",
          "Armenia",
          "Australia",
          "Austria",
          "Azerbaijan",
          "The Bahamas",
          "Bahrain",
          "Bangladesh",
          "Barbados",
          "Belarus",
          "Belgium",
          "Belize",
          "Benin",
          "Bhutan",
          "Bolivia",
          "Bosnia and Herzegovina",
          "Botswana",
          "Brazil",
          "Brunei",
          "Bulgaria",
          "Burkina Faso",
          "Burundi",
          "Ivory Coast",
          "Cape Verde",
          "Cambodia",
          "Cameroon",
          "Canada",
          "Central African Republic",
          "Chad",
          "Chile",
          "China",
          "Colombia",
          "Comoros",
          "Republic of the Congo",
          "Costa Rica",
          "Croatia",
          "Cuba",
          "Cyprus",
          "Czech Republic",
          "Democratic Republic of the Congo",
          "Denmark",
          "Djibouti",
          "Dominica",
          "Dominican Republic",
          "Ecuador",
          "Egypt",
          "El Salvador",
          "Equatorial Guinea",
          "Eritrea",
          "Estonia",
          "Ethiopia",
          "Fiji",
          "Finland",
          "France",
          "Gabon",
          "The Gambia",
          "Georgia",
          "Germany",
          "Ghana",
          "Greece",
          "Grenada",
          "Guatemala",
          "Guinea",
          "Guinea-Bissau",
          "Guyana",
          "Haiti",
          "Honduras",
          "Hungary",
          "Iceland",
          "India",
          "Indonesia",
          "Iran",
          "Iraq",
          "Republic of Ireland",
          "Israel",
          "Italy",
          "Jamaica",
          "Japan",
          "Jordan",
          "Kazakhstan",
          "Kenya",
          "Kiribati",
          "Kuwait",
          "Kyrgyzstan",
          "Laos",
          "Latvia",
          "Lebanon",
          "Lesotho",
          "Liberia",
          "Libya",
          "Liechtenstein",
          "Lithuania",
          "Luxembourg",
          "Madagascar",
          "Malawi",
          "Malaysia",
          "Maldives",
          "Mali",
          "Malta",
          "Marshall Islands",
          "Mauritania",
          "Mauritius",
          "Mexico",
          "Federated States of Micronesia",
          "Moldova",
          "Mongolia",
          "Montenegro",
          "Morocco",
          "Mozambique",
          "Myanmar",
          "Namibia",
          "Nepal",
          "Netherlands",
          "New Zealand",
          "Nicaragua",
          "Niger",
          "Nigeria",
          "North Korea",
          "Norway",
          "Oman",
          "Pakistan",
          "Palau",
          "Panama",
          "Papua New Guinea",
          "Paraguay",
          "Peru",
          "Philippines",
          "Poland",
          "Portugal",
          "Qatar",
          "Romania",
          "Russia",
          "Rwanda",
          "Saint Kitts and Nevis",
          "Saint Lucia",
          "Saint Vincent and the Grenadines",
          "Samoa",
          "S�����������",
          "Saudi Arabia",
          "Senegal",
          "Serbia",
          "Seychelles",
          "Sierra Leone",
          "Singapore",
          "Slovakia",
          "Slovenia",
          "Solomon Islands",
          "Somalia",
          "South Africa",
          "South Korea",
          "Spain",
          "Sri Lanka",
          "Sudan",
          "Suriname",
          "Sweden",
          "Switzerland",
          "Syria",
          "Tajikistan",
          "Tanzania",
          "Thailand",
          "East Timor",
          "Togo",
          "Tonga",
          "Trinidad and Tobago",
          "Tunisia",
          "Turkey",
          "Turkmenistan",
          "Tuvalu",
          "Uganda",
          "Ukraine",
          "United Arab Emirates",
          "United Kingdom",
          "United States",
          "Uruguay",
          "Uzbekistan",
          "Vanuatu",
          "Venezuela",
          "Vietnam",
          "Yemen",
          "Zambia",
          "Zimbabwe"
         ],
         "name": "",
         "type": "choropleth",
         "z": [
          182.11200000000002,
          1274.6160000000002,
          1200.048,
          159.46,
          16062.858999999999,
          124.211,
          19732.104,
          603.252,
          61273.004,
          28819.111999999997,
          5304.419999999999,
          918.004,
          253.552,
          9267.06,
          187.572,
          24827.28,
          21896.914,
          339.096,
          2447.928,
          914.225,
          10867.818,
          9329.096000000001,
          1198.2599999999998,
          272294.111,
          5525.744,
          14764.632,
          659.674,
          53.955,
          3163.398,
          122.175,
          5247.151,
          3258.363,
          208149.508,
          105.73200000000001,
          38.608,
          20854.746,
          2216040.5119999996,
          51547.978,
          39.794,
          2146.428,
          4380.558,
          6015.871999999999,
          8852.892,
          1239.062,
          35367.428,
          1358.112,
          4672.5419999999995,
          1.24,
          103.32,
          10532.586000000001,
          20659.81,
          238.56,
          903.294,
          3138.525,
          105.939,
          8510.67,
          1858.75,
          1143.714,
          33531.701,
          94622.112,
          4788.900000000001,
          257.488,
          4111.968,
          238047.171,
          6868.040000000001,
          19791.578,
          134,
          5486.079000000001,
          772.9680000000001,
          204.51399999999998,
          2000.1760000000002,
          104.23,
          3925.2000000000003,
          10427.973,
          10.325000000000001,
          573025.936,
          281099.175,
          43672.86,
          3611.159,
          4148.21,
          5017.782,
          101890.698,
          2541.525,
          778081.91,
          276.18800000000005,
          2966.484,
          1396.98,
          9.9,
          394.93600000000004,
          322.971,
          14583.422999999999,
          3782.1600000000003,
          3322.664,
          40.192,
          597.366,
          50.564,
          21.980999999999998,
          4511.124,
          3208.7160000000003,
          835.67,
          430.93600000000004,
          167843.36399999997,
          47.685,
          120.80199999999999,
          14.762000000000002,
          100.38600000000001,
          5.478,
          826.3100000000001,
          164891.634,
          131.417,
          644.49,
          2029.44,
          1240.455,
          7720.776,
          3812.64,
          11022.08,
          350.92400000000004,
          2312.67,
          19127.359999999997,
          13271.452000000001,
          1448.328,
          18.153000000000002,
          8666.568000000001,
          11511.588000000002,
          13619.636,
          0,
          3821.85,
          196.224,
          6632.585,
          5584.176,
          2792.439,
          33127.878000000004,
          33995.786,
          92402.433,
          16864.732,
          0,
          20846.959,
          862549.446,
          219.65499999999997,
          100.67399999999999,
          137.448,
          152.24,
          148.584,
          67.51799999999999,
          2817.245,
          4666.056,
          14063.731,
          534.82,
          471.08299999999997,
          8670.585000000001,
          13099.295999999998,
          7832.46,
          131.651,
          64.5,
          36224.943999999996,
          393271.468,
          90036.738,
          7686.097999999999,
          1620,
          1708.454,
          29800.628000000004,
          10963.686,
          778.4100000000001,
          159.29999999999998,
          6178.068,
          91371.686,
          224.73,
          93,
          16,
          20179.280000000002,
          2035.7160000000001,
          57399.65,
          6215.4400000000005,
          3.6629999999999994,
          550.9599999999999,
          33775.74999999999,
          9490.904,
          49652.275,
          1697136.3779999998,
          723.962,
          6885.825,
          53.067,
          86520.225,
          92673.308,
          106.09,
          3351.9320000000002,
          3898.9649999999997
         ]
        }
       ],
       "layout": {
        "coloraxis": {
         "colorbar": {
          "title": {
           "text": "Carbon Dioxide Emission"
          }
         },
         "colorscale": [
          [
           0,
           "rgb(255,255,204)"
          ],
          [
           0.125,
           "rgb(255,237,160)"
          ],
          [
           0.25,
           "rgb(254,217,118)"
          ],
          [
           0.375,
           "rgb(254,178,76)"
          ],
          [
           0.5,
           "rgb(253,141,60)"
          ],
          [
           0.625,
           "rgb(252,78,42)"
          ],
          [
           0.75,
           "rgb(227,26,28)"
          ],
          [
           0.875,
           "rgb(189,0,38)"
          ],
          [
           1,
           "rgb(128,0,38)"
          ]
         ]
        },
        "geo": {
         "center": {},
         "domain": {
          "x": [
           0,
           1
          ],
          "y": [
           0,
           1
          ]
         },
         "projection": {
          "type": "equirectangular"
         },
         "showcoastlines": false,
         "showframe": false
        },
        "legend": {
         "tracegroupgap": 0
        },
        "template": {
         "data": {
          "bar": [
           {
            "error_x": {
             "color": "#2a3f5f"
            },
            "error_y": {
             "color": "#2a3f5f"
            },
            "marker": {
             "line": {
              "color": "#E5ECF6",
              "width": 0.5
             },
             "pattern": {
              "fillmode": "overlay",
              "size": 10,
              "solidity": 0.2
             }
            },
            "type": "bar"
           }
          ],
          "barpolar": [
           {
            "marker": {
             "line": {
              "color": "#E5ECF6",
              "width": 0.5
             },
             "pattern": {
              "fillmode": "overlay",
              "size": 10,
              "solidity": 0.2
             }
            },
            "type": "barpolar"
           }
          ],
          "carpet": [
           {
            "aaxis": {
             "endlinecolor": "#2a3f5f",
             "gridcolor": "white",
             "linecolor": "white",
             "minorgridcolor": "white",
             "startlinecolor": "#2a3f5f"
            },
            "baxis": {
             "endlinecolor": "#2a3f5f",
             "gridcolor": "white",
             "linecolor": "white",
             "minorgridcolor": "white",
             "startlinecolor": "#2a3f5f"
            },
            "type": "carpet"
           }
          ],
          "choropleth": [
           {
            "colorbar": {
             "outlinewidth": 0,
             "ticks": ""
            },
            "type": "choropleth"
           }
          ],
          "contour": [
           {
            "colorbar": {
             "outlinewidth": 0,
             "ticks": ""
            },
            "colorscale": [
             [
              0,
              "#0d0887"
             ],
             [
              0.1111111111111111,
              "#46039f"
             ],
             [
              0.2222222222222222,
              "#7201a8"
             ],
             [
              0.3333333333333333,
              "#9c179e"
             ],
             [
              0.4444444444444444,
              "#bd3786"
             ],
             [
              0.5555555555555556,
              "#d8576b"
             ],
             [
              0.6666666666666666,
              "#ed7953"
             ],
             [
              0.7777777777777778,
              "#fb9f3a"
             ],
             [
              0.8888888888888888,
              "#fdca26"
             ],
             [
              1,
              "#f0f921"
             ]
            ],
            "type": "contour"
           }
          ],
          "contourcarpet": [
           {
            "colorbar": {
             "outlinewidth": 0,
             "ticks": ""
            },
            "type": "contourcarpet"
           }
          ],
          "heatmap": [
           {
            "colorbar": {
             "outlinewidth": 0,
             "ticks": ""
            },
            "colorscale": [
             [
              0,
              "#0d0887"
             ],
             [
              0.1111111111111111,
              "#46039f"
             ],
             [
              0.2222222222222222,
              "#7201a8"
             ],
             [
              0.3333333333333333,
              "#9c179e"
             ],
             [
              0.4444444444444444,
              "#bd3786"
             ],
             [
              0.5555555555555556,
              "#d8576b"
             ],
             [
              0.6666666666666666,
              "#ed7953"
             ],
             [
              0.7777777777777778,
              "#fb9f3a"
             ],
             [
              0.8888888888888888,
              "#fdca26"
             ],
             [
              1,
              "#f0f921"
             ]
            ],
            "type": "heatmap"
           }
          ],
          "heatmapgl": [
           {
            "colorbar": {
             "outlinewidth": 0,
             "ticks": ""
            },
            "colorscale": [
             [
              0,
              "#0d0887"
             ],
             [
              0.1111111111111111,
              "#46039f"
             ],
             [
              0.2222222222222222,
              "#7201a8"
             ],
             [
              0.3333333333333333,
              "#9c179e"
             ],
             [
              0.4444444444444444,
              "#bd3786"
             ],
             [
              0.5555555555555556,
              "#d8576b"
             ],
             [
              0.6666666666666666,
              "#ed7953"
             ],
             [
              0.7777777777777778,
              "#fb9f3a"
             ],
             [
              0.8888888888888888,
              "#fdca26"
             ],
             [
              1,
              "#f0f921"
             ]
            ],
            "type": "heatmapgl"
           }
          ],
          "histogram": [
           {
            "marker": {
             "pattern": {
              "fillmode": "overlay",
              "size": 10,
              "solidity": 0.2
             }
            },
            "type": "histogram"
           }
          ],
          "histogram2d": [
           {
            "colorbar": {
             "outlinewidth": 0,
             "ticks": ""
            },
            "colorscale": [
             [
              0,
              "#0d0887"
             ],
             [
              0.1111111111111111,
              "#46039f"
             ],
             [
              0.2222222222222222,
              "#7201a8"
             ],
             [
              0.3333333333333333,
              "#9c179e"
             ],
             [
              0.4444444444444444,
              "#bd3786"
             ],
             [
              0.5555555555555556,
              "#d8576b"
             ],
             [
              0.6666666666666666,
              "#ed7953"
             ],
             [
              0.7777777777777778,
              "#fb9f3a"
             ],
             [
              0.8888888888888888,
              "#fdca26"
             ],
             [
              1,
              "#f0f921"
             ]
            ],
            "type": "histogram2d"
           }
          ],
          "histogram2dcontour": [
           {
            "colorbar": {
             "outlinewidth": 0,
             "ticks": ""
            },
            "colorscale": [
             [
              0,
              "#0d0887"
             ],
             [
              0.1111111111111111,
              "#46039f"
             ],
             [
              0.2222222222222222,
              "#7201a8"
             ],
             [
              0.3333333333333333,
              "#9c179e"
             ],
             [
              0.4444444444444444,
              "#bd3786"
             ],
             [
              0.5555555555555556,
              "#d8576b"
             ],
             [
              0.6666666666666666,
              "#ed7953"
             ],
             [
              0.7777777777777778,
              "#fb9f3a"
             ],
             [
              0.8888888888888888,
              "#fdca26"
             ],
             [
              1,
              "#f0f921"
             ]
            ],
            "type": "histogram2dcontour"
           }
          ],
          "mesh3d": [
           {
            "colorbar": {
             "outlinewidth": 0,
             "ticks": ""
            },
            "type": "mesh3d"
           }
          ],
          "parcoords": [
           {
            "line": {
             "colorbar": {
              "outlinewidth": 0,
              "ticks": ""
             }
            },
            "type": "parcoords"
           }
          ],
          "pie": [
           {
            "automargin": true,
            "type": "pie"
           }
          ],
          "scatter": [
           {
            "fillpattern": {
             "fillmode": "overlay",
             "size": 10,
             "solidity": 0.2
            },
            "type": "scatter"
           }
          ],
          "scatter3d": [
           {
            "line": {
             "colorbar": {
              "outlinewidth": 0,
              "ticks": ""
             }
            },
            "marker": {
             "colorbar": {
              "outlinewidth": 0,
              "ticks": ""
             }
            },
            "type": "scatter3d"
           }
          ],
          "scattercarpet": [
           {
            "marker": {
             "colorbar": {
              "outlinewidth": 0,
              "ticks": ""
             }
            },
            "type": "scattercarpet"
           }
          ],
          "scattergeo": [
           {
            "marker": {
             "colorbar": {
              "outlinewidth": 0,
              "ticks": ""
             }
            },
            "type": "scattergeo"
           }
          ],
          "scattergl": [
           {
            "marker": {
             "colorbar": {
              "outlinewidth": 0,
              "ticks": ""
             }
            },
            "type": "scattergl"
           }
          ],
          "scattermapbox": [
           {
            "marker": {
             "colorbar": {
              "outlinewidth": 0,
              "ticks": ""
             }
            },
            "type": "scattermapbox"
           }
          ],
          "scatterpolar": [
           {
            "marker": {
             "colorbar": {
              "outlinewidth": 0,
              "ticks": ""
             }
            },
            "type": "scatterpolar"
           }
          ],
          "scatterpolargl": [
           {
            "marker": {
             "colorbar": {
              "outlinewidth": 0,
              "ticks": ""
             }
            },
            "type": "scatterpolargl"
           }
          ],
          "scatterternary": [
           {
            "marker": {
             "colorbar": {
              "outlinewidth": 0,
              "ticks": ""
             }
            },
            "type": "scatterternary"
           }
          ],
          "surface": [
           {
            "colorbar": {
             "outlinewidth": 0,
             "ticks": ""
            },
            "colorscale": [
             [
              0,
              "#0d0887"
             ],
             [
              0.1111111111111111,
              "#46039f"
             ],
             [
              0.2222222222222222,
              "#7201a8"
             ],
             [
              0.3333333333333333,
              "#9c179e"
             ],
             [
              0.4444444444444444,
              "#bd3786"
             ],
             [
              0.5555555555555556,
              "#d8576b"
             ],
             [
              0.6666666666666666,
              "#ed7953"
             ],
             [
              0.7777777777777778,
              "#fb9f3a"
             ],
             [
              0.8888888888888888,
              "#fdca26"
             ],
             [
              1,
              "#f0f921"
             ]
            ],
            "type": "surface"
           }
          ],
          "table": [
           {
            "cells": {
             "fill": {
              "color": "#EBF0F8"
             },
             "line": {
              "color": "white"
             }
            },
            "header": {
             "fill": {
              "color": "#C8D4E3"
             },
             "line": {
              "color": "white"
             }
            },
            "type": "table"
           }
          ]
         },
         "layout": {
          "annotationdefaults": {
           "arrowcolor": "#2a3f5f",
           "arrowhead": 0,
           "arrowwidth": 1
          },
          "autotypenumbers": "strict",
          "coloraxis": {
           "colorbar": {
            "outlinewidth": 0,
            "ticks": ""
           }
          },
          "colorscale": {
           "diverging": [
            [
             0,
             "#8e0152"
            ],
            [
             0.1,
             "#c51b7d"
            ],
            [
             0.2,
             "#de77ae"
            ],
            [
             0.3,
             "#f1b6da"
            ],
            [
             0.4,
             "#fde0ef"
            ],
            [
             0.5,
             "#f7f7f7"
            ],
            [
             0.6,
             "#e6f5d0"
            ],
            [
             0.7,
             "#b8e186"
            ],
            [
             0.8,
             "#7fbc41"
            ],
            [
             0.9,
             "#4d9221"
            ],
            [
             1,
             "#276419"
            ]
           ],
           "sequential": [
            [
             0,
             "#0d0887"
            ],
            [
             0.1111111111111111,
             "#46039f"
            ],
            [
             0.2222222222222222,
             "#7201a8"
            ],
            [
             0.3333333333333333,
             "#9c179e"
            ],
            [
             0.4444444444444444,
             "#bd3786"
            ],
            [
             0.5555555555555556,
             "#d8576b"
            ],
            [
             0.6666666666666666,
             "#ed7953"
            ],
            [
             0.7777777777777778,
             "#fb9f3a"
            ],
            [
             0.8888888888888888,
             "#fdca26"
            ],
            [
             1,
             "#f0f921"
            ]
           ],
           "sequentialminus": [
            [
             0,
             "#0d0887"
            ],
            [
             0.1111111111111111,
             "#46039f"
            ],
            [
             0.2222222222222222,
             "#7201a8"
            ],
            [
             0.3333333333333333,
             "#9c179e"
            ],
            [
             0.4444444444444444,
             "#bd3786"
            ],
            [
             0.5555555555555556,
             "#d8576b"
            ],
            [
             0.6666666666666666,
             "#ed7953"
            ],
            [
             0.7777777777777778,
             "#fb9f3a"
            ],
            [
             0.8888888888888888,
             "#fdca26"
            ],
            [
             1,
             "#f0f921"
            ]
           ]
          },
          "colorway": [
           "#636efa",
           "#EF553B",
           "#00cc96",
           "#ab63fa",
           "#FFA15A",
           "#19d3f3",
           "#FF6692",
           "#B6E880",
           "#FF97FF",
           "#FECB52"
          ],
          "font": {
           "color": "#2a3f5f"
          },
          "geo": {
           "bgcolor": "white",
           "lakecolor": "white",
           "landcolor": "#E5ECF6",
           "showlakes": true,
           "showland": true,
           "subunitcolor": "white"
          },
          "hoverlabel": {
           "align": "left"
          },
          "hovermode": "closest",
          "mapbox": {
           "style": "light"
          },
          "paper_bgcolor": "white",
          "plot_bgcolor": "#E5ECF6",
          "polar": {
           "angularaxis": {
            "gridcolor": "white",
            "linecolor": "white",
            "ticks": ""
           },
           "bgcolor": "#E5ECF6",
           "radialaxis": {
            "gridcolor": "white",
            "linecolor": "white",
            "ticks": ""
           }
          },
          "scene": {
           "xaxis": {
            "backgroundcolor": "#E5ECF6",
            "gridcolor": "white",
            "gridwidth": 2,
            "linecolor": "white",
            "showbackground": true,
            "ticks": "",
            "zerolinecolor": "white"
           },
           "yaxis": {
            "backgroundcolor": "#E5ECF6",
            "gridcolor": "white",
            "gridwidth": 2,
            "linecolor": "white",
            "showbackground": true,
            "ticks": "",
            "zerolinecolor": "white"
           },
           "zaxis": {
            "backgroundcolor": "#E5ECF6",
            "gridcolor": "white",
            "gridwidth": 2,
            "linecolor": "white",
            "showbackground": true,
            "ticks": "",
            "zerolinecolor": "white"
           }
          },
          "shapedefaults": {
           "line": {
            "color": "#2a3f5f"
           }
          },
          "ternary": {
           "aaxis": {
            "gridcolor": "white",
            "linecolor": "white",
            "ticks": ""
           },
           "baxis": {
            "gridcolor": "white",
            "linecolor": "white",
            "ticks": ""
           },
           "bgcolor": "#E5ECF6",
           "caxis": {
            "gridcolor": "white",
            "linecolor": "white",
            "ticks": ""
           }
          },
          "title": {
           "x": 0.05
          },
          "xaxis": {
           "automargin": true,
           "gridcolor": "white",
           "linecolor": "white",
           "ticks": "",
           "title": {
            "standoff": 15
           },
           "zerolinecolor": "white",
           "zerolinewidth": 2
          },
          "yaxis": {
           "automargin": true,
           "gridcolor": "white",
           "linecolor": "white",
           "ticks": "",
           "title": {
            "standoff": 15
           },
           "zerolinecolor": "white",
           "zerolinewidth": 2
          }
         }
        },
        "title": {
         "text": "Carbon Dioxide Emissions by Country"
        }
       }
      }
     },
     "metadata": {},
     "output_type": "display_data"
    }
   ],
   "source": [
    "\n",
    "\n",
    "df_clean['Carbon Dioxide Emission'] = df_clean[\"Forested Area (%)\"] / 100 * df_clean[\"CO2 Emissions\"]\n",
    "\n",
    "df_filtered = df_clean[['Country', 'Carbon Dioxide Emission']]\n",
    "\n",
    "df_filtered = df_filtered.dropna()\n",
    "\n",
    "\n",
    "fig = px.choropleth(df_filtered,\n",
    "                    locations='Country',\n",
    "                    locationmode='country names',\n",
    "                    color='Carbon Dioxide Emission',\n",
    "                    hover_name='Country',\n",
    "                    title='Carbon Dioxide Emissions by Country',\n",
    "                    color_continuous_scale='YlOrRd')\n",
    "\n",
    "# Set axis labels\n",
    "fig.update_layout(geo=dict(showframe=False, showcoastlines=False, projection_type='equirectangular'))\n",
    "\n",
    "# Show the choropleth map\n",
    "fig.show()\n"
   ]
  },
  {
   "cell_type": "markdown",
   "metadata": {},
   "source": [
    "Explore correlations between economic indicators such as GDP and various socio-economic factors."
   ]
  },
  {
   "cell_type": "code",
   "execution_count": 12,
   "metadata": {},
   "outputs": [
    {
     "data": {
      "image/png": "[encoded data removed]",
      "text/plain": [
       "<Figure size 1000x800 with 2 Axes>"
      ]
     },
     "metadata": {},
     "output_type": "display_data"
    }
   ],
   "source": [
    "correlations_colums = ['GDP', 'Population', 'Birth Rate', 'Life expectancy', 'Infant mortality']\n",
    "subset_data = df_clean[correlations_colums]\n",
    "correlation_matrix = subset_data.corr()\n",
    "\n",
    "plt.figure(figsize=(10, 8))\n",
    "sns.heatmap(correlation_matrix, annot=True, cmap='coolwarm', square=True)\n",
    "plt.title('Correlation Heatmap')\n",
    "plt.show()"
   ]
  },
  {
   "cell_type": "markdown",
   "metadata": {},
   "source": [
    "Investigate educational enrollment rates and their implications for human capital development."
   ]
  },
  {
   "cell_type": "code",
   "execution_count": 15,
   "metadata": {},
   "outputs": [
    {
     "data": {
      "application/vnd.plotly.v1+json": {
       "config": {
        "plotlyServerURL": "https://plot.ly"
       },
       "data": [
        {
         "domain": {
          "x": [
           0,
           0.45
          ],
          "y": [
           0,
           1
          ]
         },
         "hole": 0.3,
         "labels": [
          "Madagascar",
          "Malawi",
          "Nepal",
          "Gabon",
          "Rwanda",
          "Sweden",
          "Namibia",
          "Togo",
          "Benin",
          "Burundi"
         ],
         "marker": {
          "colors": [
           "rgba(50, 171, 96, 0.6)",
           "rgba(50, 171, 96, 0.7)",
           "rgba(50, 171, 96, 0.8)",
           "rgba(50, 171, 96, 0.9)",
           "rgba(50, 171, 96, 1.0)",
           "rgba(50, 171, 96, 0.5)",
           "rgba(50, 171, 96, 0.4)",
           "rgba(50, 171, 96, 0.3)",
           "rgba(50, 171, 96, 0.2)",
           "rgba(50, 171, 96, 0.1)"
          ]
         },
         "name": "Gross Primary Education Enrollment",
         "type": "pie",
         "values": [
          142.5,
          142.5,
          142.1,
          139.9,
          133,
          126.6,
          124.2,
          123.8,
          122,
          121.4
         ]
        },
        {
         "domain": {
          "x": [
           0.55,
           1
          ],
          "y": [
           0,
           1
          ]
         },
         "hole": 0.3,
         "labels": [
          "Madagascar",
          "Malawi",
          "Nepal",
          "Gabon",
          "Rwanda",
          "Sweden",
          "Namibia",
          "Togo",
          "Benin",
          "Burundi"
         ],
         "marker": {
          "colors": [
           "rgba(128, 0, 128, 0.6)",
           "rgba(128, 0, 128, 0.7)",
           "rgba(128, 0, 128, 0.8)",
           "rgba(128, 0, 128, 0.9)",
           "rgba(128, 0, 128, 1.0)",
           "rgba(128, 0, 128, 0.5)",
           "rgba(128, 0, 128, 0.4)",
           "rgba(128, 0, 128, 0.3)",
           "rgba(128, 0, 128, 0.2)",
           "rgba(128, 0, 128, 0.1)"
          ]
         },
         "name": "Gross Tertiary Education Enrollment",
         "type": "pie",
         "values": [
          5.4,
          0.8,
          12.4,
          8.3,
          6.7,
          67,
          22.9,
          14.5,
          12.3,
          6.1
         ]
        }
       ],
       "layout": {
        "annotations": [
         {
          "font": {
           "size": 16
          },
          "showarrow": false,
          "text": "Gross Primary Education Enrollment",
          "x": 0.225,
          "xanchor": "center",
          "xref": "paper",
          "y": 1,
          "yanchor": "bottom",
          "yref": "paper"
         },
         {
          "font": {
           "size": 16
          },
          "showarrow": false,
          "text": "Gross Tertiary Education Enrollment",
          "x": 0.775,
          "xanchor": "center",
          "xref": "paper",
          "y": 1,
          "yanchor": "bottom",
          "yref": "paper"
         }
        ],
        "legend": {
         "font": {
          "size": 12
         },
         "x": 0.029,
         "y": 1.038
        },
        "margin": {
         "b": 70,
         "l": 100,
         "r": 20,
         "t": 70
        },
        "paper_bgcolor": "rgb(248, 248, 255)",
        "plot_bgcolor": "rgb(248, 248, 255)",
        "template": {
         "data": {
          "bar": [
           {
            "error_x": {
             "color": "#2a3f5f"
            },
            "error_y": {
             "color": "#2a3f5f"
            },
            "marker": {
             "line": {
              "color": "#E5ECF6",
              "width": 0.5
             },
             "pattern": {
              "fillmode": "overlay",
              "size": 10,
              "solidity": 0.2
             }
            },
            "type": "bar"
           }
          ],
          "barpolar": [
           {
            "marker": {
             "line": {
              "color": "#E5ECF6",
              "width": 0.5
             },
             "pattern": {
              "fillmode": "overlay",
              "size": 10,
              "solidity": 0.2
             }
            },
            "type": "barpolar"
           }
          ],
          "carpet": [
           {
            "aaxis": {
             "endlinecolor": "#2a3f5f",
             "gridcolor": "white",
             "linecolor": "white",
             "minorgridcolor": "white",
             "startlinecolor": "#2a3f5f"
            },
            "baxis": {
             "endlinecolor": "#2a3f5f",
             "gridcolor": "white",
             "linecolor": "white",
             "minorgridcolor": "white",
             "startlinecolor": "#2a3f5f"
            },
            "type": "carpet"
           }
          ],
          "choropleth": [
           {
            "colorbar": {
             "outlinewidth": 0,
             "ticks": ""
            },
            "type": "choropleth"
           }
          ],
          "contour": [
           {
            "colorbar": {
             "outlinewidth": 0,
             "ticks": ""
            },
            "colorscale": [
             [
              0,
              "#0d0887"
             ],
             [
              0.1111111111111111,
              "#46039f"
             ],
             [
              0.2222222222222222,
              "#7201a8"
             ],
             [
              0.3333333333333333,
              "#9c179e"
             ],
             [
              0.4444444444444444,
              "#bd3786"
             ],
             [
              0.5555555555555556,
              "#d8576b"
             ],
             [
              0.6666666666666666,
              "#ed7953"
             ],
             [
              0.7777777777777778,
              "#fb9f3a"
             ],
             [
              0.8888888888888888,
              "#fdca26"
             ],
             [
              1,
              "#f0f921"
             ]
            ],
            "type": "contour"
           }
          ],
          "contourcarpet": [
           {
            "colorbar": {
             "outlinewidth": 0,
             "ticks": ""
            },
            "type": "contourcarpet"
           }
          ],
          "heatmap": [
           {
            "colorbar": {
             "outlinewidth": 0,
             "ticks": ""
            },
            "colorscale": [
             [
              0,
              "#0d0887"
             ],
             [
              0.1111111111111111,
              "#46039f"
             ],
             [
              0.2222222222222222,
              "#7201a8"
             ],
             [
              0.3333333333333333,
              "#9c179e"
             ],
             [
              0.4444444444444444,
              "#bd3786"
             ],
             [
              0.5555555555555556,
              "#d8576b"
             ],
             [
              0.6666666666666666,
              "#ed7953"
             ],
             [
              0.7777777777777778,
              "#fb9f3a"
             ],
             [
              0.8888888888888888,
              "#fdca26"
             ],
             [
              1,
              "#f0f921"
             ]
            ],
            "type": "heatmap"
           }
          ],
          "heatmapgl": [
           {
            "colorbar": {
             "outlinewidth": 0,
             "ticks": ""
            },
            "colorscale": [
             [
              0,
              "#0d0887"
             ],
             [
              0.1111111111111111,
              "#46039f"
             ],
             [
              0.2222222222222222,
              "#7201a8"
             ],
             [
              0.3333333333333333,
              "#9c179e"
             ],
             [
              0.4444444444444444,
              "#bd3786"
             ],
             [
              0.5555555555555556,
              "#d8576b"
             ],
             [
              0.6666666666666666,
              "#ed7953"
             ],
             [
              0.7777777777777778,
              "#fb9f3a"
             ],
             [
              0.8888888888888888,
              "#fdca26"
             ],
             [
              1,
              "#f0f921"
             ]
            ],
            "type": "heatmapgl"
           }
          ],
          "histogram": [
           {
            "marker": {
             "pattern": {
              "fillmode": "overlay",
              "size": 10,
              "solidity": 0.2
             }
            },
            "type": "histogram"
           }
          ],
          "histogram2d": [
           {
            "colorbar": {
             "outlinewidth": 0,
             "ticks": ""
            },
            "colorscale": [
             [
              0,
              "#0d0887"
             ],
             [
              0.1111111111111111,
              "#46039f"
             ],
             [
              0.2222222222222222,
              "#7201a8"
             ],
             [
              0.3333333333333333,
              "#9c179e"
             ],
             [
              0.4444444444444444,
              "#bd3786"
             ],
             [
              0.5555555555555556,
              "#d8576b"
             ],
             [
              0.6666666666666666,
              "#ed7953"
             ],
             [
              0.7777777777777778,
              "#fb9f3a"
             ],
             [
              0.8888888888888888,
              "#fdca26"
             ],
             [
              1,
              "#f0f921"
             ]
            ],
            "type": "histogram2d"
           }
          ],
          "histogram2dcontour": [
           {
            "colorbar": {
             "outlinewidth": 0,
             "ticks": ""
            },
            "colorscale": [
             [
              0,
              "#0d0887"
             ],
             [
              0.1111111111111111,
              "#46039f"
             ],
             [
              0.2222222222222222,
              "#7201a8"
             ],
             [
              0.3333333333333333,
              "#9c179e"
             ],
             [
              0.4444444444444444,
              "#bd3786"
             ],
             [
              0.5555555555555556,
              "#d8576b"
             ],
             [
              0.6666666666666666,
              "#ed7953"
             ],
             [
              0.7777777777777778,
              "#fb9f3a"
             ],
             [
              0.8888888888888888,
              "#fdca26"
             ],
             [
              1,
              "#f0f921"
             ]
            ],
            "type": "histogram2dcontour"
           }
          ],
          "mesh3d": [
           {
            "colorbar": {
             "outlinewidth": 0,
             "ticks": ""
            },
            "type": "mesh3d"
           }
          ],
          "parcoords": [
           {
            "line": {
             "colorbar": {
              "outlinewidth": 0,
              "ticks": ""
             }
            },
            "type": "parcoords"
           }
          ],
          "pie": [
           {
            "automargin": true,
            "type": "pie"
           }
          ],
          "scatter": [
           {
            "fillpattern": {
             "fillmode": "overlay",
             "size": 10,
             "solidity": 0.2
            },
            "type": "scatter"
           }
          ],
          "scatter3d": [
           {
            "line": {
             "colorbar": {
              "outlinewidth": 0,
              "ticks": ""
             }
            },
            "marker": {
             "colorbar": {
              "outlinewidth": 0,
              "ticks": ""
             }
            },
            "type": "scatter3d"
           }
          ],
          "scattercarpet": [
           {
            "marker": {
             "colorbar": {
              "outlinewidth": 0,
              "ticks": ""
             }
            },
            "type": "scattercarpet"
           }
          ],
          "scattergeo": [
           {
            "marker": {
             "colorbar": {
              "outlinewidth": 0,
              "ticks": ""
             }
            },
            "type": "scattergeo"
           }
          ],
          "scattergl": [
           {
            "marker": {
             "colorbar": {
              "outlinewidth": 0,
              "ticks": ""
             }
            },
            "type": "scattergl"
           }
          ],
          "scattermapbox": [
           {
            "marker": {
             "colorbar": {
              "outlinewidth": 0,
              "ticks": ""
             }
            },
            "type": "scattermapbox"
           }
          ],
          "scatterpolar": [
           {
            "marker": {
             "colorbar": {
              "outlinewidth": 0,
              "ticks": ""
             }
            },
            "type": "scatterpolar"
           }
          ],
          "scatterpolargl": [
           {
            "marker": {
             "colorbar": {
              "outlinewidth": 0,
              "ticks": ""
             }
            },
            "type": "scatterpolargl"
           }
          ],
          "scatterternary": [
           {
            "marker": {
             "colorbar": {
              "outlinewidth": 0,
              "ticks": ""
             }
            },
            "type": "scatterternary"
           }
          ],
          "surface": [
           {
            "colorbar": {
             "outlinewidth": 0,
             "ticks": ""
            },
            "colorscale": [
             [
              0,
              "#0d0887"
             ],
             [
              0.1111111111111111,
              "#46039f"
             ],
             [
              0.2222222222222222,
              "#7201a8"
             ],
             [
              0.3333333333333333,
              "#9c179e"
             ],
             [
              0.4444444444444444,
              "#bd3786"
             ],
             [
              0.5555555555555556,
              "#d8576b"
             ],
             [
              0.6666666666666666,
              "#ed7953"
             ],
             [
              0.7777777777777778,
              "#fb9f3a"
             ],
             [
              0.8888888888888888,
              "#fdca26"
             ],
             [
              1,
              "#f0f921"
             ]
            ],
            "type": "surface"
           }
          ],
          "table": [
           {
            "cells": {
             "fill": {
              "color": "#EBF0F8"
             },
             "line": {
              "color": "white"
             }
            },
            "header": {
             "fill": {
              "color": "#C8D4E3"
             },
             "line": {
              "color": "white"
             }
            },
            "type": "table"
           }
          ]
         },
         "layout": {
          "annotationdefaults": {
           "arrowcolor": "#2a3f5f",
           "arrowhead": 0,
           "arrowwidth": 1
          },
          "autotypenumbers": "strict",
          "coloraxis": {
           "colorbar": {
            "outlinewidth": 0,
            "ticks": ""
           }
          },
          "colorscale": {
           "diverging": [
            [
             0,
             "#8e0152"
            ],
            [
             0.1,
             "#c51b7d"
            ],
            [
             0.2,
             "#de77ae"
            ],
            [
             0.3,
             "#f1b6da"
            ],
            [
             0.4,
             "#fde0ef"
            ],
            [
             0.5,
             "#f7f7f7"
            ],
            [
             0.6,
             "#e6f5d0"
            ],
            [
             0.7,
             "#b8e186"
            ],
            [
             0.8,
             "#7fbc41"
            ],
            [
             0.9,
             "#4d9221"
            ],
            [
             1,
             "#276419"
            ]
           ],
           "sequential": [
            [
             0,
             "#0d0887"
            ],
            [
             0.1111111111111111,
             "#46039f"
            ],
            [
             0.2222222222222222,
             "#7201a8"
            ],
            [
             0.3333333333333333,
             "#9c179e"
            ],
            [
             0.4444444444444444,
             "#bd3786"
            ],
            [
             0.5555555555555556,
             "#d8576b"
            ],
            [
             0.6666666666666666,
             "#ed7953"
            ],
            [
             0.7777777777777778,
             "#fb9f3a"
            ],
            [
             0.8888888888888888,
             "#fdca26"
            ],
            [
             1,
             "#f0f921"
            ]
           ],
           "sequentialminus": [
            [
             0,
             "#0d0887"
            ],
            [
             0.1111111111111111,
             "#46039f"
            ],
            [
             0.2222222222222222,
             "#7201a8"
            ],
            [
             0.3333333333333333,
             "#9c179e"
            ],
            [
             0.4444444444444444,
             "#bd3786"
            ],
            [
             0.5555555555555556,
             "#d8576b"
            ],
            [
             0.6666666666666666,
             "#ed7953"
            ],
            [
             0.7777777777777778,
             "#fb9f3a"
            ],
            [
             0.8888888888888888,
             "#fdca26"
            ],
            [
             1,
             "#f0f921"
            ]
           ]
          },
          "colorway": [
           "#636efa",
           "#EF553B",
           "#00cc96",
           "#ab63fa",
           "#FFA15A",
           "#19d3f3",
           "#FF6692",
           "#B6E880",
           "#FF97FF",
           "#FECB52"
          ],
          "font": {
           "color": "#2a3f5f"
          },
          "geo": {
           "bgcolor": "white",
           "lakecolor": "white",
           "landcolor": "#E5ECF6",
           "showlakes": true,
           "showland": true,
           "subunitcolor": "white"
          },
          "hoverlabel": {
           "align": "left"
          },
          "hovermode": "closest",
          "mapbox": {
           "style": "light"
          },
          "paper_bgcolor": "white",
          "plot_bgcolor": "#E5ECF6",
          "polar": {
           "angularaxis": {
            "gridcolor": "white",
            "linecolor": "white",
            "ticks": ""
           },
           "bgcolor": "#E5ECF6",
           "radialaxis": {
            "gridcolor": "white",
            "linecolor": "white",
            "ticks": ""
           }
          },
          "scene": {
           "xaxis": {
            "backgroundcolor": "#E5ECF6",
            "gridcolor": "white",
            "gridwidth": 2,
            "linecolor": "white",
            "showbackground": true,
            "ticks": "",
            "zerolinecolor": "white"
           },
           "yaxis": {
            "backgroundcolor": "#E5ECF6",
            "gridcolor": "white",
            "gridwidth": 2,
            "linecolor": "white",
            "showbackground": true,
            "ticks": "",
            "zerolinecolor": "white"
           },
           "zaxis": {
            "backgroundcolor": "#E5ECF6",
            "gridcolor": "white",
            "gridwidth": 2,
            "linecolor": "white",
            "showbackground": true,
            "ticks": "",
            "zerolinecolor": "white"
           }
          },
          "shapedefaults": {
           "line": {
            "color": "#2a3f5f"
           }
          },
          "ternary": {
           "aaxis": {
            "gridcolor": "white",
            "linecolor": "white",
            "ticks": ""
           },
           "baxis": {
            "gridcolor": "white",
            "linecolor": "white",
            "ticks": ""
           },
           "bgcolor": "#E5ECF6",
           "caxis": {
            "gridcolor": "white",
            "linecolor": "white",
            "ticks": ""
           }
          },
          "title": {
           "x": 0.05
          },
          "xaxis": {
           "automargin": true,
           "gridcolor": "white",
           "linecolor": "white",
           "ticks": "",
           "title": {
            "standoff": 15
           },
           "zerolinecolor": "white",
           "zerolinewidth": 2
          },
          "yaxis": {
           "automargin": true,
           "gridcolor": "white",
           "linecolor": "white",
           "ticks": "",
           "title": {
            "standoff": 15
           },
           "zerolinecolor": "white",
           "zerolinewidth": 2
          }
         }
        },
        "title": {
         "text": "Top 10 Countries - Educational Enrollment Rates"
        }
       }
      }
     },
     "metadata": {},
     "output_type": "display_data"
    }
   ],
   "source": [
    "import plotly.graph_objects as go\n",
    "\n",
    "top_10_countries = df_clean.nlargest(10, 'Gross primary education enrollment (%)')\n",
    "\n",
    "y_GPEN = top_10_countries['Gross primary education enrollment (%)']\n",
    "y_GTEE = top_10_countries['Gross tertiary education enrollment (%)']\n",
    "x = top_10_countries['Country']\n",
    "\n",
    "\n",
    "fig = make_subplots(rows=1, cols=2, specs=[[{\"type\": \"pie\"}, {\"type\": \"pie\"}]], shared_xaxes=True,\n",
    "                    shared_yaxes=False, vertical_spacing=0.01, subplot_titles=(\"Gross Primary Education Enrollment\",\n",
    "                                                                            \"Gross Tertiary Education Enrollment\"))\n",
    "\n",
    "fig.add_trace(go.Pie(\n",
    "    labels=x,\n",
    "    values=y_GPEN,\n",
    "    name='Gross Primary Education Enrollment',\n",
    "    marker=dict(\n",
    "        colors=['rgba(50, 171, 96, 0.6)', 'rgba(50, 171, 96, 0.7)', 'rgba(50, 171, 96, 0.8)', 'rgba(50, 171, 96, 0.9)',\n",
    "                'rgba(50, 171, 96, 1.0)', 'rgba(50, 171, 96, 0.5)', 'rgba(50, 171, 96, 0.4)', 'rgba(50, 171, 96, 0.3)',\n",
    "                'rgba(50, 171, 96, 0.2)', 'rgba(50, 171, 96, 0.1)']\n",
    "    ),\n",
    "    hole=0.3\n",
    "), 1, 1)\n",
    "\n",
    "fig.add_trace(go.Pie(\n",
    "    labels=x,\n",
    "    values=y_GTEE,\n",
    "    name='Gross Tertiary Education Enrollment',\n",
    "    marker=dict(\n",
    "        colors=['rgba(128, 0, 128, 0.6)', 'rgba(128, 0, 128, 0.7)', 'rgba(128, 0, 128, 0.8)', 'rgba(128, 0, 128, 0.9)',\n",
    "                'rgba(128, 0, 128, 1.0)', 'rgba(128, 0, 128, 0.5)', 'rgba(128, 0, 128, 0.4)', 'rgba(128, 0, 128, 0.3)',\n",
    "                'rgba(128, 0, 128, 0.2)', 'rgba(128, 0, 128, 0.1)']\n",
    "    ),\n",
    "    hole=0.3\n",
    "), 1, 2)\n",
    "\n",
    "fig.update_layout(\n",
    "    title='Top 10 Countries - Educational Enrollment Rates',\n",
    "    legend=dict(x=0.029, y=1.038, font_size=12),\n",
    "    margin=dict(l=100, r=20, t=70, b=70),\n",
    "    paper_bgcolor='rgb(248, 248, 255)',\n",
    "    plot_bgcolor='rgb(248, 248, 255)',\n",
    ")\n",
    "\n",
    "fig.show()\n"
   ]
  },
  {
   "cell_type": "code",
   "execution_count": null,
   "metadata": {},
   "outputs": [],
   "source": []
  }
 ],
 "metadata": {
  "kernelspec": {
   "display_name": "Python 3",
   "language": "python",
   "name": "python3"
  },
  "language_info": {
   "codemirror_mode": {
    "name": "ipython",
    "version": 3
   },
   "file_extension": ".py",
   "mimetype": "text/x-python",
   "name": "python",
   "nbconvert_exporter": "python",
   "pygments_lexer": "ipython3",
   "version": "3.11.3"
  },
  "orig_nbformat": 4
 },
 "nbformat": 4,
 "nbformat_minor": 2
}
